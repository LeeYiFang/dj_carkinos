{
 "cells": [
  {
   "cell_type": "code",
   "execution_count": 1,
   "metadata": {
    "collapsed": true
   },
   "outputs": [],
   "source": [
    "# Setup logging \n",
    "import logging\n",
    "logger = logging.getLogger()\n",
    "logger.handlers[0].setFormatter(\n",
    "    logging.Formatter(\n",
    "        fmt=(\n",
    "            \"%(asctime)s.%(msecs)03d %(levelname).1s \"\n",
    "            \"[%(name)s] %(message)s\"\n",
    "        ),\n",
    "        datefmt=\"%y-%m-%d %H:%M:%S\",\n",
    "    )\n",
    ")\n",
    "logger.setLevel(logging.INFO)"
   ]
  },
  {
   "cell_type": "code",
   "execution_count": 2,
   "metadata": {
    "collapsed": true
   },
   "outputs": [],
   "source": [
    "from pathlib import Path\n",
    "import pandas as pd"
   ]
  },
  {
   "cell_type": "code",
   "execution_count": 3,
   "metadata": {
    "collapsed": true
   },
   "outputs": [],
   "source": [
    "import operator as op\n",
    "import numpy as np"
   ]
  },
  {
   "cell_type": "code",
   "execution_count": 4,
   "metadata": {
    "collapsed": false
   },
   "outputs": [
    {
     "name": "stdout",
     "output_type": "stream",
     "text": [
      "/Users/liang/code/dj_carkinos/src\n"
     ]
    }
   ],
   "source": [
    "cd \"../../src/\""
   ]
  },
  {
   "cell_type": "code",
   "execution_count": 5,
   "metadata": {
    "collapsed": true
   },
   "outputs": [],
   "source": [
    "import django\n",
    "import os"
   ]
  },
  {
   "cell_type": "code",
   "execution_count": 6,
   "metadata": {
    "collapsed": true
   },
   "outputs": [],
   "source": [
    "os.environ['DJANGO_SETTINGS_MODULE'] = 'carkinos.settings.local'"
   ]
  },
  {
   "cell_type": "code",
   "execution_count": 7,
   "metadata": {
    "collapsed": true
   },
   "outputs": [],
   "source": [
    "django.setup()"
   ]
  },
  {
   "cell_type": "code",
   "execution_count": 8,
   "metadata": {
    "collapsed": true
   },
   "outputs": [],
   "source": [
    "from django.conf import settings\n",
    "from django.db.models import Q, F, Count"
   ]
  },
  {
   "cell_type": "code",
   "execution_count": 9,
   "metadata": {
    "collapsed": true
   },
   "outputs": [],
   "source": [
    "from datasets.models import (\n",
    "    CellLine, DataSet, MicroarrayPlatform, \n",
    "    Sample, ProbeInfo, Gene\n",
    ")"
   ]
  },
  {
   "cell_type": "markdown",
   "metadata": {},
   "source": [
    "## Get basic Dataset info"
   ]
  },
  {
   "cell_type": "code",
   "execution_count": 10,
   "metadata": {
    "collapsed": false
   },
   "outputs": [
    {
     "name": "stderr",
     "output_type": "stream",
     "text": [
      "16-01-14 10:26:29.396 D [django.db.backends] (0.001) SELECT \"datasets_dataset\".\"name\", \"datasets_dataset\".\"data_path\" FROM \"datasets_dataset\" ORDER BY \"datasets_dataset\".\"name\" ASC LIMIT 1; args=()\n"
     ]
    }
   ],
   "source": [
    "dset = DataSet.objects.first()"
   ]
  },
  {
   "cell_type": "code",
   "execution_count": 11,
   "metadata": {
    "collapsed": false
   },
   "outputs": [
    {
     "data": {
      "text/plain": [
       "<DataSet: Sanger Cell Line Project>"
      ]
     },
     "execution_count": 11,
     "metadata": {},
     "output_type": "execute_result"
    }
   ],
   "source": [
    "dset"
   ]
  },
  {
   "cell_type": "code",
   "execution_count": 12,
   "metadata": {
    "collapsed": false
   },
   "outputs": [
    {
     "name": "stderr",
     "output_type": "stream",
     "text": [
      "16-01-14 10:26:29.409 D [django.db.backends] (0.000) SELECT \"datasets_generalplatform\".\"name\", \"datasets_generalplatform\".\"description\", \"datasets_microarrayplatform\".\"generalplatform_ptr_id\", \"datasets_microarrayplatform\".\"manufacturer\" FROM \"datasets_microarrayplatform\" INNER JOIN \"datasets_generalplatform\" ON (\"datasets_microarrayplatform\".\"generalplatform_ptr_id\" = \"datasets_generalplatform\".\"name\") ORDER BY \"datasets_microarrayplatform\".\"generalplatform_ptr_id\" ASC LIMIT 1; args=()\n"
     ]
    }
   ],
   "source": [
    "# We only have one platform for now\n",
    "platform = MicroarrayPlatform.objects.first()"
   ]
  },
  {
   "cell_type": "code",
   "execution_count": 13,
   "metadata": {
    "collapsed": false
   },
   "outputs": [
    {
     "data": {
      "text/plain": [
       "<MicroarrayPlatform: GPL3921>"
      ]
     },
     "execution_count": 13,
     "metadata": {},
     "output_type": "execute_result"
    }
   ],
   "source": [
    "platform"
   ]
  },
  {
   "cell_type": "code",
   "execution_count": 14,
   "metadata": {
    "collapsed": false
   },
   "outputs": [
    {
     "name": "stderr",
     "output_type": "stream",
     "text": [
      "16-01-14 10:26:29.416 D [django.db.backends] (0.000) SELECT \"datasets_probeinfo\".\"id\", \"datasets_probeinfo\".\"identifier\", \"datasets_probeinfo\".\"platform_id\", \"datasets_probeinfo\".\"platform_order\" FROM \"datasets_probeinfo\" WHERE \"datasets_probeinfo\".\"platform_id\" = 'GPL3921' LIMIT 5; args=('GPL3921',)\n"
     ]
    },
    {
     "data": {
      "text/plain": [
       "[<ProbeInfo: 1007_s_at of GPL3921>, <ProbeInfo: 1053_at of GPL3921>, <ProbeInfo: 117_at of GPL3921>, <ProbeInfo: 121_at of GPL3921>, <ProbeInfo: 1255_g_at of GPL3921>]"
      ]
     },
     "execution_count": 14,
     "metadata": {},
     "output_type": "execute_result"
    }
   ],
   "source": [
    "platform.probes.all()[:5]"
   ]
  },
  {
   "cell_type": "code",
   "execution_count": 15,
   "metadata": {
    "collapsed": false
   },
   "outputs": [
    {
     "name": "stderr",
     "output_type": "stream",
     "text": [
      "16-01-14 10:26:29.421 D [django.db.backends] (0.000) SELECT \"datasets_sample\".\"id\", \"datasets_sample\".\"name\", \"datasets_sample\".\"cell_line_id\", \"datasets_sample\".\"dataset_id\", \"datasets_sample\".\"dataset_order\", \"datasets_sample\".\"platform_id\" FROM \"datasets_sample\" WHERE \"datasets_sample\".\"dataset_id\" = 'Sanger Cell Line Project' LIMIT 5; args=('Sanger Cell Line Project',)\n",
      "16-01-14 10:26:29.422 D [django.db.backends] (0.000) SELECT \"datasets_cellline\".\"id\", \"datasets_cellline\".\"name\", \"datasets_cellline\".\"primary_site\", \"datasets_cellline\".\"primary_histology\" FROM \"datasets_cellline\" WHERE \"datasets_cellline\".\"id\" = 1; args=(1,)\n",
      "16-01-14 10:26:29.423 D [django.db.backends] (0.000) SELECT \"datasets_cellline\".\"id\", \"datasets_cellline\".\"name\", \"datasets_cellline\".\"primary_site\", \"datasets_cellline\".\"primary_histology\" FROM \"datasets_cellline\" WHERE \"datasets_cellline\".\"id\" = 2; args=(2,)\n",
      "16-01-14 10:26:29.424 D [django.db.backends] (0.000) SELECT \"datasets_cellline\".\"id\", \"datasets_cellline\".\"name\", \"datasets_cellline\".\"primary_site\", \"datasets_cellline\".\"primary_histology\" FROM \"datasets_cellline\" WHERE \"datasets_cellline\".\"id\" = 3; args=(3,)\n",
      "16-01-14 10:26:29.425 D [django.db.backends] (0.000) SELECT \"datasets_cellline\".\"id\", \"datasets_cellline\".\"name\", \"datasets_cellline\".\"primary_site\", \"datasets_cellline\".\"primary_histology\" FROM \"datasets_cellline\" WHERE \"datasets_cellline\".\"id\" = 4; args=(4,)\n",
      "16-01-14 10:26:29.426 D [django.db.backends] (0.000) SELECT \"datasets_cellline\".\"id\", \"datasets_cellline\".\"name\", \"datasets_cellline\".\"primary_site\", \"datasets_cellline\".\"primary_histology\" FROM \"datasets_cellline\" WHERE \"datasets_cellline\".\"id\" = 5; args=(5,)\n"
     ]
    },
    {
     "data": {
      "text/plain": [
       "[<Sample: 5500024035100021608461.G01 380 from Sanger Cell Line Project>, <Sample: 5500024034290101707049.A01 697 from Sanger Cell Line Project>, <Sample: 5500024052603032009483.A09 5637 from Sanger Cell Line Project>, <Sample: 5500024035100021608461.H01 22RV1 from Sanger Cell Line Project>, <Sample: 5500024032848101507998.D02 23132-87 from Sanger Cell Line Project>]"
      ]
     },
     "execution_count": 15,
     "metadata": {},
     "output_type": "execute_result"
    }
   ],
   "source": [
    "dset.samples.all()[:5]"
   ]
  },
  {
   "cell_type": "markdown",
   "metadata": {},
   "source": [
    "## Example"
   ]
  },
  {
   "cell_type": "code",
   "execution_count": 16,
   "metadata": {
    "collapsed": false
   },
   "outputs": [],
   "source": [
    "lung_cell_lines = CellLine.objects.filter(primary_site__contains='lung')"
   ]
  },
  {
   "cell_type": "code",
   "execution_count": 17,
   "metadata": {
    "collapsed": false
   },
   "outputs": [],
   "source": [
    "BRCA_probes = ProbeInfo.objects.filter(genes__gene_symbol__contains='BRCA')"
   ]
  },
  {
   "cell_type": "code",
   "execution_count": 18,
   "metadata": {
    "collapsed": false
   },
   "outputs": [
    {
     "name": "stderr",
     "output_type": "stream",
     "text": [
      "16-01-14 10:26:29.438 D [django.db.backends] (0.003) SELECT \"datasets_probeinfo\".\"id\", \"datasets_probeinfo\".\"identifier\", \"datasets_probeinfo\".\"platform_id\", \"datasets_probeinfo\".\"platform_order\" FROM \"datasets_probeinfo\" INNER JOIN \"datasets_probeinfo_genes\" ON (\"datasets_probeinfo\".\"id\" = \"datasets_probeinfo_genes\".\"probeinfo_id\") INNER JOIN \"datasets_gene\" ON (\"datasets_probeinfo_genes\".\"gene_id\" = \"datasets_gene\".\"id\") WHERE \"datasets_gene\".\"gene_symbol\" LIKE '%BRCA%' ESCAPE '\\' LIMIT 1; args=('%BRCA%',)\n"
     ]
    }
   ],
   "source": [
    "p = BRCA_probes[0]"
   ]
  },
  {
   "cell_type": "code",
   "execution_count": 19,
   "metadata": {
    "collapsed": false
   },
   "outputs": [
    {
     "name": "stderr",
     "output_type": "stream",
     "text": [
      "16-01-14 10:26:29.445 D [django.db.backends] (0.003) SELECT \"datasets_probeinfo\".\"id\", \"datasets_probeinfo\".\"identifier\", \"datasets_probeinfo\".\"platform_id\", \"datasets_probeinfo\".\"platform_order\" FROM \"datasets_probeinfo\" INNER JOIN \"datasets_probeinfo_genes\" ON (\"datasets_probeinfo\".\"id\" = \"datasets_probeinfo_genes\".\"probeinfo_id\") INNER JOIN \"datasets_gene\" ON (\"datasets_probeinfo_genes\".\"gene_id\" = \"datasets_gene\".\"id\") WHERE \"datasets_gene\".\"gene_symbol\" LIKE '%BRCA%' ESCAPE '\\'; args=('%BRCA%',)\n",
      "16-01-14 10:26:29.462 D [django.db.backends] (0.000) SELECT COUNT(*) AS \"__count\" FROM \"datasets_gene\" INNER JOIN \"datasets_probeinfo_genes\" ON (\"datasets_gene\".\"id\" = \"datasets_probeinfo_genes\".\"gene_id\") WHERE \"datasets_probeinfo_genes\".\"probeinfo_id\" = 4058; args=(4058,)\n",
      "16-01-14 10:26:29.464 D [django.db.backends] (0.000) SELECT \"datasets_gene\".\"id\", \"datasets_gene\".\"entrez_id\", \"datasets_gene\".\"gene_symbol\", \"datasets_gene\".\"gene_name\" FROM \"datasets_gene\" INNER JOIN \"datasets_probeinfo_genes\" ON (\"datasets_gene\".\"id\" = \"datasets_probeinfo_genes\".\"gene_id\") WHERE \"datasets_probeinfo_genes\".\"probeinfo_id\" = 4058 ORDER BY \"datasets_gene\".\"id\" ASC LIMIT 1; args=(4058,)\n",
      "16-01-14 10:26:29.465 D [django.db.backends] (0.000) SELECT COUNT(*) AS \"__count\" FROM \"datasets_gene\" INNER JOIN \"datasets_probeinfo_genes\" ON (\"datasets_gene\".\"id\" = \"datasets_probeinfo_genes\".\"gene_id\") WHERE \"datasets_probeinfo_genes\".\"probeinfo_id\" = 7869; args=(7869,)\n",
      "16-01-14 10:26:29.466 D [django.db.backends] (0.000) SELECT \"datasets_gene\".\"id\", \"datasets_gene\".\"entrez_id\", \"datasets_gene\".\"gene_symbol\", \"datasets_gene\".\"gene_name\" FROM \"datasets_gene\" INNER JOIN \"datasets_probeinfo_genes\" ON (\"datasets_gene\".\"id\" = \"datasets_probeinfo_genes\".\"gene_id\") WHERE \"datasets_probeinfo_genes\".\"probeinfo_id\" = 7869 ORDER BY \"datasets_gene\".\"id\" ASC LIMIT 1; args=(7869,)\n",
      "16-01-14 10:26:29.467 D [django.db.backends] (0.000) SELECT COUNT(*) AS \"__count\" FROM \"datasets_gene\" INNER JOIN \"datasets_probeinfo_genes\" ON (\"datasets_gene\".\"id\" = \"datasets_probeinfo_genes\".\"gene_id\") WHERE \"datasets_probeinfo_genes\".\"probeinfo_id\" = 11245; args=(11245,)\n",
      "16-01-14 10:26:29.468 D [django.db.backends] (0.000) SELECT \"datasets_gene\".\"id\", \"datasets_gene\".\"entrez_id\", \"datasets_gene\".\"gene_symbol\", \"datasets_gene\".\"gene_name\" FROM \"datasets_gene\" INNER JOIN \"datasets_probeinfo_genes\" ON (\"datasets_gene\".\"id\" = \"datasets_probeinfo_genes\".\"gene_id\") WHERE \"datasets_probeinfo_genes\".\"probeinfo_id\" = 11245 ORDER BY \"datasets_gene\".\"id\" ASC LIMIT 1; args=(11245,)\n",
      "16-01-14 10:26:29.469 D [django.db.backends] (0.000) SELECT COUNT(*) AS \"__count\" FROM \"datasets_gene\" INNER JOIN \"datasets_probeinfo_genes\" ON (\"datasets_gene\".\"id\" = \"datasets_probeinfo_genes\".\"gene_id\") WHERE \"datasets_probeinfo_genes\".\"probeinfo_id\" = 14103; args=(14103,)\n",
      "16-01-14 10:26:29.470 D [django.db.backends] (0.000) SELECT \"datasets_gene\".\"id\", \"datasets_gene\".\"entrez_id\", \"datasets_gene\".\"gene_symbol\", \"datasets_gene\".\"gene_name\" FROM \"datasets_gene\" INNER JOIN \"datasets_probeinfo_genes\" ON (\"datasets_gene\".\"id\" = \"datasets_probeinfo_genes\".\"gene_id\") WHERE \"datasets_probeinfo_genes\".\"probeinfo_id\" = 14103 ORDER BY \"datasets_gene\".\"id\" ASC LIMIT 1; args=(14103,)\n"
     ]
    },
    {
     "name": "stdout",
     "output_type": "stream",
     "text": [
      "Probe 204531_s_at has 1 genes: BRCA1\n",
      "Probe 208368_s_at has 1 genes: BRCA2\n",
      "Probe 211851_x_at has 1 genes: BRCA1\n",
      "Probe 214727_at has 1 genes: BRCA2\n"
     ]
    }
   ],
   "source": [
    "for p in BRCA_probes:\n",
    "    print(\n",
    "        \"Probe %s has %d genes: %s\"\n",
    "        %(p.identifier, p.genes.count(), p.genes.first().gene_symbol)\n",
    "    )"
   ]
  },
  {
   "cell_type": "code",
   "execution_count": 20,
   "metadata": {
    "collapsed": false
   },
   "outputs": [],
   "source": [
    "probes_order = list(\n",
    "    map(op.attrgetter('platform_order'), BRCA_probes)\n",
    ")"
   ]
  },
  {
   "cell_type": "code",
   "execution_count": 21,
   "metadata": {
    "collapsed": false
   },
   "outputs": [
    {
     "data": {
      "text/plain": [
       "[4057, 7868, 11244, 14102]"
      ]
     },
     "execution_count": 21,
     "metadata": {},
     "output_type": "execute_result"
    }
   ],
   "source": [
    "probes_order"
   ]
  },
  {
   "cell_type": "code",
   "execution_count": 22,
   "metadata": {
    "collapsed": false
   },
   "outputs": [],
   "source": [
    "lung_samples = dset.samples.filter(cell_line__primary_site__contains='lung')"
   ]
  },
  {
   "cell_type": "code",
   "execution_count": 23,
   "metadata": {
    "collapsed": false
   },
   "outputs": [
    {
     "name": "stderr",
     "output_type": "stream",
     "text": [
      "16-01-14 10:26:29.483 D [django.db.backends] (0.000) SELECT \"datasets_sample\".\"id\", \"datasets_sample\".\"name\", \"datasets_sample\".\"cell_line_id\", \"datasets_sample\".\"dataset_id\", \"datasets_sample\".\"dataset_order\", \"datasets_sample\".\"platform_id\" FROM \"datasets_sample\" INNER JOIN \"datasets_cellline\" ON (\"datasets_sample\".\"cell_line_id\" = \"datasets_cellline\".\"id\") WHERE (\"datasets_sample\".\"dataset_id\" = 'Sanger Cell Line Project' AND \"datasets_cellline\".\"primary_site\" LIKE '%lung%' ESCAPE '\\'); args=('Sanger Cell Line Project', '%lung%')\n"
     ]
    }
   ],
   "source": [
    "samples_order = list(\n",
    "        map(op.attrgetter('dataset_order'), lung_samples)\n",
    ")"
   ]
  },
  {
   "cell_type": "code",
   "execution_count": 24,
   "metadata": {
    "collapsed": false
   },
   "outputs": [
    {
     "data": {
      "text/plain": [
       "[20, 24, 28, 51, 79, 91, 92, 93]"
      ]
     },
     "execution_count": 24,
     "metadata": {},
     "output_type": "execute_result"
    }
   ],
   "source": [
    "samples_order"
   ]
  },
  {
   "cell_type": "code",
   "execution_count": 25,
   "metadata": {
    "collapsed": false
   },
   "outputs": [],
   "source": [
    "dset_val_pth = Path(settings.DATA_ROOT, dset.data_path)"
   ]
  },
  {
   "cell_type": "code",
   "execution_count": 26,
   "metadata": {
    "collapsed": false
   },
   "outputs": [],
   "source": [
    "dset_val = np.load(dset_val_pth.as_posix(), mmap_mode='r')"
   ]
  },
  {
   "cell_type": "markdown",
   "metadata": {},
   "source": [
    "From http://stackoverflow.com/a/30918530"
   ]
  },
  {
   "cell_type": "code",
   "execution_count": 27,
   "metadata": {
    "collapsed": false
   },
   "outputs": [
    {
     "data": {
      "text/plain": [
       "memmap([[ 456.,  209.,  239.,  229.,  146.,  209.,  261.,  177.],\n",
       "       [ 106.,   29.,   43.,   80.,   67.,   46.,   95.,   60.],\n",
       "       [  79.,   41.,   44.,   31.,   31.,   34.,   43.,   55.],\n",
       "       [  26.,   26.,   43.,   23.,   25.,   24.,   25.,   20.]])"
      ]
     },
     "execution_count": 27,
     "metadata": {},
     "output_type": "execute_result"
    }
   ],
   "source": [
    "dset_val[np.meshgrid(probes_order, samples_order, indexing='ij')]"
   ]
  },
  {
   "cell_type": "code",
   "execution_count": 28,
   "metadata": {
    "collapsed": false
   },
   "outputs": [
    {
     "data": {
      "text/plain": [
       "memmap([[ 456.,  209.,  239.,  229.,  146.,  209.,  261.,  177.],\n",
       "       [ 106.,   29.,   43.,   80.,   67.,   46.,   95.,   60.],\n",
       "       [  79.,   41.,   44.,   31.,   31.,   34.,   43.,   55.],\n",
       "       [  26.,   26.,   43.,   23.,   25.,   24.,   25.,   20.]])"
      ]
     },
     "execution_count": 28,
     "metadata": {},
     "output_type": "execute_result"
    }
   ],
   "source": [
    "dset_val[probes_order][:, samples_order]"
   ]
  },
  {
   "cell_type": "code",
   "execution_count": 29,
   "metadata": {
    "collapsed": false,
    "scrolled": true
   },
   "outputs": [
    {
     "data": {
      "text/plain": [
       "memmap([[ 456.,  209.,  239.,  229.,  146.,  209.,  261.,  177.],\n",
       "       [ 106.,   29.,   43.,   80.,   67.,   46.,   95.,   60.],\n",
       "       [  79.,   41.,   44.,   31.,   31.,   34.,   43.,   55.],\n",
       "       [  26.,   26.,   43.,   23.,   25.,   24.,   25.,   20.]])"
      ]
     },
     "execution_count": 29,
     "metadata": {},
     "output_type": "execute_result"
    }
   ],
   "source": [
    "dset_val[np.ix_(probes_order, samples_order)]"
   ]
  },
  {
   "cell_type": "code",
   "execution_count": 30,
   "metadata": {
    "collapsed": false
   },
   "outputs": [
    {
     "data": {
      "text/plain": [
       "memmap([[ 456.,  209.,  239.,  229.,  146.,  209.,  261.,  177.],\n",
       "       [ 106.,   29.,   43.,   80.,   67.,   46.,   95.,   60.],\n",
       "       [  79.,   41.,   44.,   31.,   31.,   34.,   43.,   55.],\n",
       "       [  26.,   26.,   43.,   23.,   25.,   24.,   25.,   20.]])"
      ]
     },
     "execution_count": 30,
     "metadata": {},
     "output_type": "execute_result"
    }
   ],
   "source": [
    "# require to be np.array first\n",
    "dset_val[np.array(probes_order)[:, None], np.array(samples_order)[None, :]]"
   ]
  },
  {
   "cell_type": "code",
   "execution_count": 31,
   "metadata": {
    "collapsed": false
   },
   "outputs": [
    {
     "data": {
      "text/html": [
       "<div>\n",
       "<table border=\"1\" class=\"dataframe\">\n",
       "  <thead>\n",
       "    <tr style=\"text-align: right;\">\n",
       "      <th></th>\n",
       "      <th>20</th>\n",
       "      <th>24</th>\n",
       "      <th>28</th>\n",
       "      <th>51</th>\n",
       "      <th>79</th>\n",
       "      <th>91</th>\n",
       "      <th>92</th>\n",
       "      <th>93</th>\n",
       "    </tr>\n",
       "  </thead>\n",
       "  <tbody>\n",
       "    <tr>\n",
       "      <th>4057</th>\n",
       "      <td>456</td>\n",
       "      <td>209</td>\n",
       "      <td>239</td>\n",
       "      <td>229</td>\n",
       "      <td>146</td>\n",
       "      <td>209</td>\n",
       "      <td>261</td>\n",
       "      <td>177</td>\n",
       "    </tr>\n",
       "    <tr>\n",
       "      <th>7868</th>\n",
       "      <td>106</td>\n",
       "      <td>29</td>\n",
       "      <td>43</td>\n",
       "      <td>80</td>\n",
       "      <td>67</td>\n",
       "      <td>46</td>\n",
       "      <td>95</td>\n",
       "      <td>60</td>\n",
       "    </tr>\n",
       "    <tr>\n",
       "      <th>11244</th>\n",
       "      <td>79</td>\n",
       "      <td>41</td>\n",
       "      <td>44</td>\n",
       "      <td>31</td>\n",
       "      <td>31</td>\n",
       "      <td>34</td>\n",
       "      <td>43</td>\n",
       "      <td>55</td>\n",
       "    </tr>\n",
       "    <tr>\n",
       "      <th>14102</th>\n",
       "      <td>26</td>\n",
       "      <td>26</td>\n",
       "      <td>43</td>\n",
       "      <td>23</td>\n",
       "      <td>25</td>\n",
       "      <td>24</td>\n",
       "      <td>25</td>\n",
       "      <td>20</td>\n",
       "    </tr>\n",
       "  </tbody>\n",
       "</table>\n",
       "</div>"
      ],
      "text/plain": [
       "        20   24   28   51   79   91   92   93\n",
       "4057   456  209  239  229  146  209  261  177\n",
       "7868   106   29   43   80   67   46   95   60\n",
       "11244   79   41   44   31   31   34   43   55\n",
       "14102   26   26   43   23   25   24   25   20"
      ]
     },
     "execution_count": 31,
     "metadata": {},
     "output_type": "execute_result"
    }
   ],
   "source": [
    "import pandas as pd\n",
    "\n",
    "pd.DataFrame(dset_val).ix[probes_order, samples_order]"
   ]
  }
 ],
 "metadata": {
  "kernelspec": {
   "display_name": "Python 3",
   "language": "python",
   "name": "python3"
  },
  "language_info": {
   "codemirror_mode": {
    "name": "ipython",
    "version": 3
   },
   "file_extension": ".py",
   "mimetype": "text/x-python",
   "name": "python",
   "nbconvert_exporter": "python",
   "pygments_lexer": "ipython3",
   "version": "3.5.1"
  }
 },
 "nbformat": 4,
 "nbformat_minor": 0
}
