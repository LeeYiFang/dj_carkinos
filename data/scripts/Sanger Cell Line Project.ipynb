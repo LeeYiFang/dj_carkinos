{
 "cells": [
  {
   "cell_type": "markdown",
   "metadata": {},
   "source": [
    "# Sanger cell line Affymetrix gene expression project\n",
    "\n",
    "### Source\n",
    "\n",
    "- From GEO: http://www.ncbi.nlm.nih.gov/geo/query/acc.cgi?acc=GSE68950"
   ]
  },
  {
   "cell_type": "code",
   "execution_count": 1,
   "metadata": {
    "collapsed": true
   },
   "outputs": [],
   "source": [
    "from pathlib import Path\n",
    "import pandas as pd"
   ]
  },
  {
   "cell_type": "code",
   "execution_count": 2,
   "metadata": {
    "collapsed": false
   },
   "outputs": [],
   "source": [
    "# Setup logging \n",
    "import logging\n",
    "logger = logging.getLogger()\n",
    "logger.handlers[0].setFormatter(\n",
    "    logging.Formatter(\n",
    "        fmt=(\n",
    "            \"%(asctime)s.%(msecs)03d %(levelname).1s \"\n",
    "            \"[%(name)s] %(message)s\"\n",
    "        ),\n",
    "        datefmt=\"%y-%m-%d %H:%M:%S\",\n",
    "    )\n",
    ")\n",
    "logger.setLevel(logging.INFO)"
   ]
  },
  {
   "cell_type": "code",
   "execution_count": 3,
   "metadata": {
    "collapsed": false
   },
   "outputs": [
    {
     "name": "stderr",
     "output_type": "stream",
     "text": [
      "16-01-05 21:20:14.483 I [root] Logger works!\n"
     ]
    }
   ],
   "source": [
    "logger.info('Logger works!')"
   ]
  },
  {
   "cell_type": "code",
   "execution_count": 4,
   "metadata": {
    "collapsed": false
   },
   "outputs": [
    {
     "name": "stderr",
     "output_type": "stream",
     "text": [
      "16-01-05 21:20:14.487 I [root] Required paths exist: True\n"
     ]
    }
   ],
   "source": [
    "data_root = Path('../').resolve()\n",
    "raw_data_root = data_root.joinpath(\n",
    "    'raw', \n",
    "    'Sanger_Cell_Line_Project_Affymetrix_QCed_Data_n798/'\n",
    ")\n",
    "logger.info(\n",
    "    'Required paths exist: %s' % \n",
    "    all(map((lambda p: p.exists()), [data_root, raw_data_root]))\n",
    ")"
   ]
  },
  {
   "cell_type": "code",
   "execution_count": 5,
   "metadata": {
    "collapsed": false
   },
   "outputs": [
    {
     "name": "stdout",
     "output_type": "stream",
     "text": [
      "Sample info: /Users/liang/code/dj_carkinos/data/raw/Sanger_Cell_Line_Project_Affymetrix_QCed_Data_n798/Sanger_affy_n798_sample_info_published.xls\n",
      "Sample raw data: /Users/liang/code/dj_carkinos/data/raw/Sanger_Cell_Line_Project_Affymetrix_QCed_Data_n798/Sanger_Cell_Line_Project_Affymetrix_QCed_Data_n798.gct.tsv.gz\n",
      "Platform info: /Users/liang/code/dj_carkinos/data/Affy_U133A_probe_info.csv\n"
     ]
    }
   ],
   "source": [
    "sample_info_p = next(raw_data_root.glob('*.xls'))\n",
    "sample_raw_data_p = next(raw_data_root.glob('*.tsv.gz'))\n",
    "plat_info = next(data_root.glob('*.csv'))\n",
    "\n",
    "print('Sample info:', sample_info_p)\n",
    "print('Sample raw data:', sample_raw_data_p)\n",
    "print('Platform info:', plat_info)"
   ]
  },
  {
   "cell_type": "markdown",
   "metadata": {},
   "source": [
    "## Read in Platform Annotation\n",
    "\n",
    "The platform annotation is created by `Get_Affy_probes.R`"
   ]
  },
  {
   "cell_type": "code",
   "execution_count": 6,
   "metadata": {
    "collapsed": true
   },
   "outputs": [],
   "source": [
    "plat_info_df = pd.read_csv(plat_info.as_posix())"
   ]
  },
  {
   "cell_type": "code",
   "execution_count": 7,
   "metadata": {
    "collapsed": false
   },
   "outputs": [
    {
     "data": {
      "text/html": [
       "<div>\n",
       "<table border=\"1\" class=\"dataframe\">\n",
       "  <thead>\n",
       "    <tr style=\"text-align: right;\">\n",
       "      <th></th>\n",
       "      <th>PROBEID</th>\n",
       "      <th>SYMBOL</th>\n",
       "      <th>ENTREZID</th>\n",
       "      <th>GENENAME</th>\n",
       "    </tr>\n",
       "  </thead>\n",
       "  <tbody>\n",
       "    <tr>\n",
       "      <th>0</th>\n",
       "      <td>1007_s_at</td>\n",
       "      <td>DDR1</td>\n",
       "      <td>780</td>\n",
       "      <td>discoidin domain receptor tyrosine kinase 1</td>\n",
       "    </tr>\n",
       "    <tr>\n",
       "      <th>1</th>\n",
       "      <td>1007_s_at</td>\n",
       "      <td>MIR4640</td>\n",
       "      <td>100616237</td>\n",
       "      <td>microRNA 4640</td>\n",
       "    </tr>\n",
       "    <tr>\n",
       "      <th>2</th>\n",
       "      <td>1053_at</td>\n",
       "      <td>RFC2</td>\n",
       "      <td>5982</td>\n",
       "      <td>replication factor C (activator 1) 2, 40kDa</td>\n",
       "    </tr>\n",
       "    <tr>\n",
       "      <th>3</th>\n",
       "      <td>117_at</td>\n",
       "      <td>HSPA6</td>\n",
       "      <td>3310</td>\n",
       "      <td>heat shock 70kDa protein 6 (HSP70B')</td>\n",
       "    </tr>\n",
       "    <tr>\n",
       "      <th>4</th>\n",
       "      <td>121_at</td>\n",
       "      <td>PAX8</td>\n",
       "      <td>7849</td>\n",
       "      <td>paired box 8</td>\n",
       "    </tr>\n",
       "  </tbody>\n",
       "</table>\n",
       "</div>"
      ],
      "text/plain": [
       "     PROBEID   SYMBOL   ENTREZID                                     GENENAME\n",
       "0  1007_s_at     DDR1        780  discoidin domain receptor tyrosine kinase 1\n",
       "1  1007_s_at  MIR4640  100616237                                microRNA 4640\n",
       "2    1053_at     RFC2       5982  replication factor C (activator 1) 2, 40kDa\n",
       "3     117_at    HSPA6       3310         heat shock 70kDa protein 6 (HSP70B')\n",
       "4     121_at     PAX8       7849                                 paired box 8"
      ]
     },
     "execution_count": 7,
     "metadata": {},
     "output_type": "execute_result"
    }
   ],
   "source": [
    "plat_info_df.head()"
   ]
  },
  {
   "cell_type": "markdown",
   "metadata": {},
   "source": [
    "## Read in Sample Info"
   ]
  },
  {
   "cell_type": "code",
   "execution_count": 8,
   "metadata": {
    "collapsed": true
   },
   "outputs": [],
   "source": [
    "sample_info_df = pd.read_excel(sample_info_p.as_posix())"
   ]
  },
  {
   "cell_type": "code",
   "execution_count": 9,
   "metadata": {
    "collapsed": false
   },
   "outputs": [],
   "source": [
    "sample_info_df = sample_info_df.loc[\n",
    "    :, ['Scan', 'SampleName', 'PrimarySite', 'PrimaryHist']\n",
    "]\n",
    "sample_info_df.columns = [\n",
    "    'name', 'cell_line', 'primary_site', 'primary_histology'\n",
    "]"
   ]
  },
  {
   "cell_type": "code",
   "execution_count": 10,
   "metadata": {
    "collapsed": true
   },
   "outputs": [],
   "source": [
    "sample_info_df['filename'] = sample_info_df.name + '.CEL'"
   ]
  },
  {
   "cell_type": "code",
   "execution_count": 11,
   "metadata": {
    "collapsed": true
   },
   "outputs": [],
   "source": [
    "# Using 800 samples take up 1.1GB SQLite database, which is too large\n",
    "sample_info_df = sample_info_df.head(n=100)"
   ]
  },
  {
   "cell_type": "code",
   "execution_count": 12,
   "metadata": {
    "collapsed": false
   },
   "outputs": [
    {
     "data": {
      "text/html": [
       "<div>\n",
       "<table border=\"1\" class=\"dataframe\">\n",
       "  <thead>\n",
       "    <tr style=\"text-align: right;\">\n",
       "      <th></th>\n",
       "      <th>name</th>\n",
       "      <th>cell_line</th>\n",
       "      <th>primary_site</th>\n",
       "      <th>primary_histology</th>\n",
       "      <th>filename</th>\n",
       "    </tr>\n",
       "  </thead>\n",
       "  <tbody>\n",
       "    <tr>\n",
       "      <th>0</th>\n",
       "      <td>5500024035100021608461.G01</td>\n",
       "      <td>380</td>\n",
       "      <td>haematopoietic and lymphoid tissue</td>\n",
       "      <td>lymphoid neoplasm</td>\n",
       "      <td>5500024035100021608461.G01.CEL</td>\n",
       "    </tr>\n",
       "    <tr>\n",
       "      <th>1</th>\n",
       "      <td>5500024034290101707049.A01</td>\n",
       "      <td>697</td>\n",
       "      <td>haematopoietic and lymphoid tissue</td>\n",
       "      <td>haematopoietic neoplasm</td>\n",
       "      <td>5500024034290101707049.A01.CEL</td>\n",
       "    </tr>\n",
       "    <tr>\n",
       "      <th>2</th>\n",
       "      <td>5500024052603032009483.A09</td>\n",
       "      <td>5637</td>\n",
       "      <td>urinary tract</td>\n",
       "      <td>carcinoma</td>\n",
       "      <td>5500024052603032009483.A09.CEL</td>\n",
       "    </tr>\n",
       "    <tr>\n",
       "      <th>3</th>\n",
       "      <td>5500024035100021608461.H01</td>\n",
       "      <td>22RV1</td>\n",
       "      <td>prostate</td>\n",
       "      <td>carcinoma</td>\n",
       "      <td>5500024035100021608461.H01.CEL</td>\n",
       "    </tr>\n",
       "    <tr>\n",
       "      <th>4</th>\n",
       "      <td>5500024032848101507998.D02</td>\n",
       "      <td>23132-87</td>\n",
       "      <td>stomach</td>\n",
       "      <td>carcinoma</td>\n",
       "      <td>5500024032848101507998.D02.CEL</td>\n",
       "    </tr>\n",
       "  </tbody>\n",
       "</table>\n",
       "</div>"
      ],
      "text/plain": [
       "                         name cell_line                        primary_site  \\\n",
       "0  5500024035100021608461.G01       380  haematopoietic and lymphoid tissue   \n",
       "1  5500024034290101707049.A01       697  haematopoietic and lymphoid tissue   \n",
       "2  5500024052603032009483.A09      5637                       urinary tract   \n",
       "3  5500024035100021608461.H01     22RV1                            prostate   \n",
       "4  5500024032848101507998.D02  23132-87                             stomach   \n",
       "\n",
       "         primary_histology                        filename  \n",
       "0        lymphoid neoplasm  5500024035100021608461.G01.CEL  \n",
       "1  haematopoietic neoplasm  5500024034290101707049.A01.CEL  \n",
       "2                carcinoma  5500024052603032009483.A09.CEL  \n",
       "3                carcinoma  5500024035100021608461.H01.CEL  \n",
       "4                carcinoma  5500024032848101507998.D02.CEL  "
      ]
     },
     "execution_count": 12,
     "metadata": {},
     "output_type": "execute_result"
    }
   ],
   "source": [
    "sample_info_df.head()"
   ]
  },
  {
   "cell_type": "code",
   "execution_count": 13,
   "metadata": {
    "collapsed": false
   },
   "outputs": [],
   "source": [
    "# To make sure a cell_line name only has one primary_site and primary_histology \n",
    "for grp, df in sample_info_df.iloc[:, 1:-1].groupby('cell_line'):\n",
    "    assert len(pd.unique(df.to_records(index=False))) == 1"
   ]
  },
  {
   "cell_type": "markdown",
   "metadata": {},
   "source": [
    "## Read Sample Raw Data"
   ]
  },
  {
   "cell_type": "code",
   "execution_count": 14,
   "metadata": {
    "collapsed": true
   },
   "outputs": [],
   "source": [
    "sample_raw_data_df = pd.read_table(sample_raw_data_p.as_posix(), skiprows=2)"
   ]
  },
  {
   "cell_type": "code",
   "execution_count": 15,
   "metadata": {
    "collapsed": false
   },
   "outputs": [
    {
     "data": {
      "text/html": [
       "<div>\n",
       "<table border=\"1\" class=\"dataframe\">\n",
       "  <thead>\n",
       "    <tr style=\"text-align: right;\">\n",
       "      <th></th>\n",
       "      <th>NAME</th>\n",
       "      <th>DESC</th>\n",
       "      <th>5500024030401071707289.A01.CEL</th>\n",
       "      <th>5500024030401071707289.A02.CEL</th>\n",
       "      <th>5500024030401071707289.A03.CEL</th>\n",
       "      <th>5500024030401071707289.A04.CEL</th>\n",
       "      <th>5500024030401071707289.A05.CEL</th>\n",
       "      <th>5500024030401071707289.A06.CEL</th>\n",
       "      <th>5500024030401071707289.A07.CEL</th>\n",
       "      <th>5500024030401071707289.A08.CEL</th>\n",
       "      <th>...</th>\n",
       "      <th>5500024052861011409506.H03.CEL</th>\n",
       "      <th>5500024052861011409506.H04.CEL</th>\n",
       "      <th>5500024052861011409506.H05.CEL</th>\n",
       "      <th>5500024052861011409506.H06.CEL</th>\n",
       "      <th>5500024052861011409506.H07.CEL</th>\n",
       "      <th>5500024052861011409506.H08.CEL</th>\n",
       "      <th>5500024052861011409506.H09.CEL</th>\n",
       "      <th>5500024052861011409506.H10.CEL</th>\n",
       "      <th>5500024052861011409506.H11.CEL</th>\n",
       "      <th>5500024052861011409506.H12.CEL</th>\n",
       "    </tr>\n",
       "  </thead>\n",
       "  <tbody>\n",
       "    <tr>\n",
       "      <th>0</th>\n",
       "      <td>1007_s_at</td>\n",
       "      <td>NaN</td>\n",
       "      <td>2074</td>\n",
       "      <td>94</td>\n",
       "      <td>926</td>\n",
       "      <td>1587</td>\n",
       "      <td>762</td>\n",
       "      <td>466</td>\n",
       "      <td>116</td>\n",
       "      <td>599</td>\n",
       "      <td>...</td>\n",
       "      <td>738</td>\n",
       "      <td>113</td>\n",
       "      <td>717</td>\n",
       "      <td>687</td>\n",
       "      <td>347</td>\n",
       "      <td>88</td>\n",
       "      <td>1425</td>\n",
       "      <td>877</td>\n",
       "      <td>163</td>\n",
       "      <td>247</td>\n",
       "    </tr>\n",
       "    <tr>\n",
       "      <th>1</th>\n",
       "      <td>1053_at</td>\n",
       "      <td>NaN</td>\n",
       "      <td>120</td>\n",
       "      <td>272</td>\n",
       "      <td>160</td>\n",
       "      <td>144</td>\n",
       "      <td>304</td>\n",
       "      <td>314</td>\n",
       "      <td>341</td>\n",
       "      <td>260</td>\n",
       "      <td>...</td>\n",
       "      <td>149</td>\n",
       "      <td>186</td>\n",
       "      <td>73</td>\n",
       "      <td>85</td>\n",
       "      <td>237</td>\n",
       "      <td>366</td>\n",
       "      <td>160</td>\n",
       "      <td>144</td>\n",
       "      <td>160</td>\n",
       "      <td>362</td>\n",
       "    </tr>\n",
       "    <tr>\n",
       "      <th>2</th>\n",
       "      <td>117_at</td>\n",
       "      <td>NaN</td>\n",
       "      <td>22</td>\n",
       "      <td>140</td>\n",
       "      <td>20</td>\n",
       "      <td>18</td>\n",
       "      <td>18</td>\n",
       "      <td>21</td>\n",
       "      <td>43</td>\n",
       "      <td>28</td>\n",
       "      <td>...</td>\n",
       "      <td>25</td>\n",
       "      <td>20</td>\n",
       "      <td>21</td>\n",
       "      <td>30</td>\n",
       "      <td>26</td>\n",
       "      <td>31</td>\n",
       "      <td>24</td>\n",
       "      <td>20</td>\n",
       "      <td>25</td>\n",
       "      <td>344</td>\n",
       "    </tr>\n",
       "    <tr>\n",
       "      <th>3</th>\n",
       "      <td>121_at</td>\n",
       "      <td>NaN</td>\n",
       "      <td>62</td>\n",
       "      <td>49</td>\n",
       "      <td>54</td>\n",
       "      <td>87</td>\n",
       "      <td>903</td>\n",
       "      <td>57</td>\n",
       "      <td>98</td>\n",
       "      <td>71</td>\n",
       "      <td>...</td>\n",
       "      <td>1690</td>\n",
       "      <td>70</td>\n",
       "      <td>1470</td>\n",
       "      <td>69</td>\n",
       "      <td>74</td>\n",
       "      <td>76</td>\n",
       "      <td>104</td>\n",
       "      <td>73</td>\n",
       "      <td>57</td>\n",
       "      <td>55</td>\n",
       "    </tr>\n",
       "    <tr>\n",
       "      <th>4</th>\n",
       "      <td>1255_g_at</td>\n",
       "      <td>NaN</td>\n",
       "      <td>15</td>\n",
       "      <td>16</td>\n",
       "      <td>16</td>\n",
       "      <td>16</td>\n",
       "      <td>15</td>\n",
       "      <td>15</td>\n",
       "      <td>16</td>\n",
       "      <td>15</td>\n",
       "      <td>...</td>\n",
       "      <td>17</td>\n",
       "      <td>15</td>\n",
       "      <td>17</td>\n",
       "      <td>16</td>\n",
       "      <td>23</td>\n",
       "      <td>17</td>\n",
       "      <td>17</td>\n",
       "      <td>17</td>\n",
       "      <td>18</td>\n",
       "      <td>24</td>\n",
       "    </tr>\n",
       "  </tbody>\n",
       "</table>\n",
       "<p>5 rows × 800 columns</p>\n",
       "</div>"
      ],
      "text/plain": [
       "        NAME  DESC  5500024030401071707289.A01.CEL  \\\n",
       "0  1007_s_at   NaN                            2074   \n",
       "1    1053_at   NaN                             120   \n",
       "2     117_at   NaN                              22   \n",
       "3     121_at   NaN                              62   \n",
       "4  1255_g_at   NaN                              15   \n",
       "\n",
       "   5500024030401071707289.A02.CEL  5500024030401071707289.A03.CEL  \\\n",
       "0                              94                             926   \n",
       "1                             272                             160   \n",
       "2                             140                              20   \n",
       "3                              49                              54   \n",
       "4                              16                              16   \n",
       "\n",
       "   5500024030401071707289.A04.CEL  5500024030401071707289.A05.CEL  \\\n",
       "0                            1587                             762   \n",
       "1                             144                             304   \n",
       "2                              18                              18   \n",
       "3                              87                             903   \n",
       "4                              16                              15   \n",
       "\n",
       "   5500024030401071707289.A06.CEL  5500024030401071707289.A07.CEL  \\\n",
       "0                             466                             116   \n",
       "1                             314                             341   \n",
       "2                              21                              43   \n",
       "3                              57                              98   \n",
       "4                              15                              16   \n",
       "\n",
       "   5500024030401071707289.A08.CEL               ...                \\\n",
       "0                             599               ...                 \n",
       "1                             260               ...                 \n",
       "2                              28               ...                 \n",
       "3                              71               ...                 \n",
       "4                              15               ...                 \n",
       "\n",
       "   5500024052861011409506.H03.CEL  5500024052861011409506.H04.CEL  \\\n",
       "0                             738                             113   \n",
       "1                             149                             186   \n",
       "2                              25                              20   \n",
       "3                            1690                              70   \n",
       "4                              17                              15   \n",
       "\n",
       "   5500024052861011409506.H05.CEL  5500024052861011409506.H06.CEL  \\\n",
       "0                             717                             687   \n",
       "1                              73                              85   \n",
       "2                              21                              30   \n",
       "3                            1470                              69   \n",
       "4                              17                              16   \n",
       "\n",
       "   5500024052861011409506.H07.CEL  5500024052861011409506.H08.CEL  \\\n",
       "0                             347                              88   \n",
       "1                             237                             366   \n",
       "2                              26                              31   \n",
       "3                              74                              76   \n",
       "4                              23                              17   \n",
       "\n",
       "   5500024052861011409506.H09.CEL  5500024052861011409506.H10.CEL  \\\n",
       "0                            1425                             877   \n",
       "1                             160                             144   \n",
       "2                              24                              20   \n",
       "3                             104                              73   \n",
       "4                              17                              17   \n",
       "\n",
       "   5500024052861011409506.H11.CEL  5500024052861011409506.H12.CEL  \n",
       "0                             163                             247  \n",
       "1                             160                             362  \n",
       "2                              25                             344  \n",
       "3                              57                              55  \n",
       "4                              18                              24  \n",
       "\n",
       "[5 rows x 800 columns]"
      ]
     },
     "execution_count": 15,
     "metadata": {},
     "output_type": "execute_result"
    }
   ],
   "source": [
    "sample_raw_data_df.head()"
   ]
  },
  {
   "cell_type": "markdown",
   "metadata": {},
   "source": [
    "## Setup Django\n",
    "\n",
    "Since Django needs to load the modules by relative import, change the working directory to `/src`."
   ]
  },
  {
   "cell_type": "code",
   "execution_count": 16,
   "metadata": {
    "collapsed": false
   },
   "outputs": [
    {
     "name": "stdout",
     "output_type": "stream",
     "text": [
      "/Users/liang/code/dj_carkinos/src\n"
     ]
    }
   ],
   "source": [
    "cd \"../../src/\""
   ]
  },
  {
   "cell_type": "code",
   "execution_count": 17,
   "metadata": {
    "collapsed": true
   },
   "outputs": [],
   "source": [
    "import django\n",
    "import os"
   ]
  },
  {
   "cell_type": "code",
   "execution_count": 18,
   "metadata": {
    "collapsed": true
   },
   "outputs": [],
   "source": [
    "os.environ['DJANGO_SETTINGS_MODULE'] = 'carkinos.settings.local'"
   ]
  },
  {
   "cell_type": "code",
   "execution_count": 19,
   "metadata": {
    "collapsed": false
   },
   "outputs": [],
   "source": [
    "django.setup()"
   ]
  },
  {
   "cell_type": "code",
   "execution_count": 20,
   "metadata": {
    "collapsed": false
   },
   "outputs": [],
   "source": [
    "from datasets.models import (\n",
    "    CellLine, DataSet, MicroarrayPlatform, \n",
    "    Sample, ProbeValue, ProbeInfo\n",
    ")"
   ]
  },
  {
   "cell_type": "code",
   "execution_count": 21,
   "metadata": {
    "collapsed": false
   },
   "outputs": [],
   "source": [
    "logging.getLogger('django.db.backends').setLevel(logging.INFO)"
   ]
  },
  {
   "cell_type": "markdown",
   "metadata": {},
   "source": [
    "### Setup Microarray Plaform"
   ]
  },
  {
   "cell_type": "code",
   "execution_count": 22,
   "metadata": {
    "collapsed": false
   },
   "outputs": [],
   "source": [
    "# Get all probes\n",
    "probe_list = '\\n'.join((sample_raw_data_df['NAME'].values))"
   ]
  },
  {
   "cell_type": "code",
   "execution_count": 23,
   "metadata": {
    "collapsed": false
   },
   "outputs": [],
   "source": [
    "platform = MicroarrayPlatform(\n",
    "    name='GPL3921',\n",
    "    manufacturer='Affymetrix',\n",
    "    description='Affymetrix HT Human Genome U133A Array',\n",
    "    probe_list=probe_list,\n",
    ")"
   ]
  },
  {
   "cell_type": "code",
   "execution_count": 24,
   "metadata": {
    "collapsed": false
   },
   "outputs": [],
   "source": [
    "platform.save()"
   ]
  },
  {
   "cell_type": "code",
   "execution_count": 25,
   "metadata": {
    "collapsed": false
   },
   "outputs": [
    {
     "data": {
      "text/plain": [
       "<MicroarrayPlatform: GPL3921 (GPL3921)>"
      ]
     },
     "execution_count": 25,
     "metadata": {},
     "output_type": "execute_result"
    }
   ],
   "source": [
    "platform"
   ]
  },
  {
   "cell_type": "markdown",
   "metadata": {},
   "source": [
    "### Platform Probe Info"
   ]
  },
  {
   "cell_type": "code",
   "execution_count": 26,
   "metadata": {
    "collapsed": false
   },
   "outputs": [],
   "source": [
    "plat_info_df.SYMBOL.fillna('', inplace=True)\n",
    "plat_info_df.GENENAME.fillna('', inplace=True)"
   ]
  },
  {
   "cell_type": "code",
   "execution_count": 27,
   "metadata": {
    "collapsed": true
   },
   "outputs": [],
   "source": [
    "plat_info_df.ENTREZID.fillna(0, inplace=True)"
   ]
  },
  {
   "cell_type": "code",
   "execution_count": 28,
   "metadata": {
    "collapsed": false
   },
   "outputs": [
    {
     "data": {
      "text/html": [
       "<div>\n",
       "<table border=\"1\" class=\"dataframe\">\n",
       "  <thead>\n",
       "    <tr style=\"text-align: right;\">\n",
       "      <th></th>\n",
       "      <th>PROBEID</th>\n",
       "      <th>SYMBOL</th>\n",
       "      <th>ENTREZID</th>\n",
       "      <th>GENENAME</th>\n",
       "    </tr>\n",
       "  </thead>\n",
       "  <tbody>\n",
       "    <tr>\n",
       "      <th>24544</th>\n",
       "      <td>AFFX-r2-Hs28SrRNA-3_at</td>\n",
       "      <td></td>\n",
       "      <td>0</td>\n",
       "      <td></td>\n",
       "    </tr>\n",
       "    <tr>\n",
       "      <th>24545</th>\n",
       "      <td>AFFX-r2-Hs28SrRNA-5_at</td>\n",
       "      <td></td>\n",
       "      <td>0</td>\n",
       "      <td></td>\n",
       "    </tr>\n",
       "    <tr>\n",
       "      <th>24546</th>\n",
       "      <td>AFFX-r2-Hs28SrRNA-M_at</td>\n",
       "      <td></td>\n",
       "      <td>0</td>\n",
       "      <td></td>\n",
       "    </tr>\n",
       "    <tr>\n",
       "      <th>24547</th>\n",
       "      <td>AFFX-r2-P1-cre-3_at</td>\n",
       "      <td></td>\n",
       "      <td>0</td>\n",
       "      <td></td>\n",
       "    </tr>\n",
       "    <tr>\n",
       "      <th>24548</th>\n",
       "      <td>AFFX-r2-P1-cre-5_at</td>\n",
       "      <td></td>\n",
       "      <td>0</td>\n",
       "      <td></td>\n",
       "    </tr>\n",
       "  </tbody>\n",
       "</table>\n",
       "</div>"
      ],
      "text/plain": [
       "                      PROBEID SYMBOL  ENTREZID GENENAME\n",
       "24544  AFFX-r2-Hs28SrRNA-3_at                0         \n",
       "24545  AFFX-r2-Hs28SrRNA-5_at                0         \n",
       "24546  AFFX-r2-Hs28SrRNA-M_at                0         \n",
       "24547     AFFX-r2-P1-cre-3_at                0         \n",
       "24548     AFFX-r2-P1-cre-5_at                0         "
      ]
     },
     "execution_count": 28,
     "metadata": {},
     "output_type": "execute_result"
    }
   ],
   "source": [
    "plat_info_df.tail()"
   ]
  },
  {
   "cell_type": "code",
   "execution_count": 29,
   "metadata": {
    "collapsed": false
   },
   "outputs": [
    {
     "data": {
      "text/plain": [
       "PROBEID     201265_at\n",
       "SYMBOL               \n",
       "ENTREZID            0\n",
       "GENENAME             \n",
       "Name: 927, dtype: object"
      ]
     },
     "execution_count": 29,
     "metadata": {},
     "output_type": "execute_result"
    }
   ],
   "source": [
    "plat_info_df.iloc[927]"
   ]
  },
  {
   "cell_type": "code",
   "execution_count": 30,
   "metadata": {
    "collapsed": false
   },
   "outputs": [],
   "source": [
    "probes = []\n",
    "for rowid, row in plat_info_df.iterrows():\n",
    "    probes.append(ProbeInfo(\n",
    "        identifier=row.PROBEID,\n",
    "        platform=platform,\n",
    "        gene_symbol=row.SYMBOL,\n",
    "        gene_name=row.GENENAME,\n",
    "        entrez_id=(row.ENTREZID if row.ENTREZID > 0 else None),\n",
    "    ))"
   ]
  },
  {
   "cell_type": "code",
   "execution_count": 31,
   "metadata": {
    "collapsed": false
   },
   "outputs": [
    {
     "data": {
      "text/plain": [
       "24549"
      ]
     },
     "execution_count": 31,
     "metadata": {},
     "output_type": "execute_result"
    }
   ],
   "source": [
    "len(probes)"
   ]
  },
  {
   "cell_type": "code",
   "execution_count": 32,
   "metadata": {
    "collapsed": false
   },
   "outputs": [
    {
     "name": "stdout",
     "output_type": "stream",
     "text": [
      "24549\n"
     ]
    }
   ],
   "source": [
    "ProbeInfo.objects.bulk_create(probes)\n",
    "print(ProbeInfo.objects.count())"
   ]
  },
  {
   "cell_type": "markdown",
   "metadata": {},
   "source": [
    "### Setup Dataset"
   ]
  },
  {
   "cell_type": "code",
   "execution_count": 33,
   "metadata": {
    "collapsed": true
   },
   "outputs": [],
   "source": [
    "dset = DataSet(\n",
    "    name = 'Sanger Cell Line Project',\n",
    "    data_path = '',\n",
    ")"
   ]
  },
  {
   "cell_type": "code",
   "execution_count": 34,
   "metadata": {
    "collapsed": false
   },
   "outputs": [],
   "source": [
    "dset.save()"
   ]
  },
  {
   "cell_type": "code",
   "execution_count": 35,
   "metadata": {
    "collapsed": false
   },
   "outputs": [
    {
     "data": {
      "text/plain": [
       "<DataSet: Sanger Cell Line Project>"
      ]
     },
     "execution_count": 35,
     "metadata": {},
     "output_type": "execute_result"
    }
   ],
   "source": [
    "dset"
   ]
  },
  {
   "cell_type": "markdown",
   "metadata": {},
   "source": [
    "### Setup Cell Lines, Samples and Their Values"
   ]
  },
  {
   "cell_type": "code",
   "execution_count": 36,
   "metadata": {
    "collapsed": false
   },
   "outputs": [
    {
     "data": {
      "text/html": [
       "<div>\n",
       "<table border=\"1\" class=\"dataframe\">\n",
       "  <thead>\n",
       "    <tr style=\"text-align: right;\">\n",
       "      <th></th>\n",
       "      <th>name</th>\n",
       "      <th>cell_line</th>\n",
       "      <th>primary_site</th>\n",
       "      <th>primary_histology</th>\n",
       "      <th>filename</th>\n",
       "    </tr>\n",
       "  </thead>\n",
       "  <tbody>\n",
       "    <tr>\n",
       "      <th>0</th>\n",
       "      <td>5500024035100021608461.G01</td>\n",
       "      <td>380</td>\n",
       "      <td>haematopoietic and lymphoid tissue</td>\n",
       "      <td>lymphoid neoplasm</td>\n",
       "      <td>5500024035100021608461.G01.CEL</td>\n",
       "    </tr>\n",
       "    <tr>\n",
       "      <th>1</th>\n",
       "      <td>5500024034290101707049.A01</td>\n",
       "      <td>697</td>\n",
       "      <td>haematopoietic and lymphoid tissue</td>\n",
       "      <td>haematopoietic neoplasm</td>\n",
       "      <td>5500024034290101707049.A01.CEL</td>\n",
       "    </tr>\n",
       "    <tr>\n",
       "      <th>2</th>\n",
       "      <td>5500024052603032009483.A09</td>\n",
       "      <td>5637</td>\n",
       "      <td>urinary tract</td>\n",
       "      <td>carcinoma</td>\n",
       "      <td>5500024052603032009483.A09.CEL</td>\n",
       "    </tr>\n",
       "    <tr>\n",
       "      <th>3</th>\n",
       "      <td>5500024035100021608461.H01</td>\n",
       "      <td>22RV1</td>\n",
       "      <td>prostate</td>\n",
       "      <td>carcinoma</td>\n",
       "      <td>5500024035100021608461.H01.CEL</td>\n",
       "    </tr>\n",
       "    <tr>\n",
       "      <th>4</th>\n",
       "      <td>5500024032848101507998.D02</td>\n",
       "      <td>23132-87</td>\n",
       "      <td>stomach</td>\n",
       "      <td>carcinoma</td>\n",
       "      <td>5500024032848101507998.D02.CEL</td>\n",
       "    </tr>\n",
       "  </tbody>\n",
       "</table>\n",
       "</div>"
      ],
      "text/plain": [
       "                         name cell_line                        primary_site  \\\n",
       "0  5500024035100021608461.G01       380  haematopoietic and lymphoid tissue   \n",
       "1  5500024034290101707049.A01       697  haematopoietic and lymphoid tissue   \n",
       "2  5500024052603032009483.A09      5637                       urinary tract   \n",
       "3  5500024035100021608461.H01     22RV1                            prostate   \n",
       "4  5500024032848101507998.D02  23132-87                             stomach   \n",
       "\n",
       "         primary_histology                        filename  \n",
       "0        lymphoid neoplasm  5500024035100021608461.G01.CEL  \n",
       "1  haematopoietic neoplasm  5500024034290101707049.A01.CEL  \n",
       "2                carcinoma  5500024052603032009483.A09.CEL  \n",
       "3                carcinoma  5500024035100021608461.H01.CEL  \n",
       "4                carcinoma  5500024032848101507998.D02.CEL  "
      ]
     },
     "execution_count": 36,
     "metadata": {},
     "output_type": "execute_result"
    }
   ],
   "source": [
    "sample_info_df.head()"
   ]
  },
  {
   "cell_type": "code",
   "execution_count": 37,
   "metadata": {
    "collapsed": false
   },
   "outputs": [],
   "source": [
    "# Create all cell lines\n",
    "known_cell_lines = {}\n",
    "for rowid, row in sample_info_df.iterrows():\n",
    "    cl = row.cell_line\n",
    "    try:\n",
    "        cell_line = known_cell_lines[cl]\n",
    "    except KeyError:\n",
    "        cell_line = CellLine(\n",
    "            name=str(row.cell_line), \n",
    "            primary_site=row.primary_site, \n",
    "            primary_histology=row.primary_histology\n",
    "        )\n",
    "        cell_line.save()\n",
    "        known_cell_lines[cl] = cell_line"
   ]
  },
  {
   "cell_type": "code",
   "execution_count": 38,
   "metadata": {
    "collapsed": true
   },
   "outputs": [],
   "source": [
    "sample_raw_data_df.index = sample_raw_data_df.NAME"
   ]
  },
  {
   "cell_type": "code",
   "execution_count": 39,
   "metadata": {
    "collapsed": false
   },
   "outputs": [
    {
     "name": "stderr",
     "output_type": "stream",
     "text": [
      "16-01-05 13:20:22.702 I [root] Writing data of Sample 5500024035100021608461.G01 ...\n",
      "16-01-05 13:20:23.831 I [root] Writing data of Sample 5500024034290101707049.A01 ...\n",
      "16-01-05 13:20:24.966 I [root] Writing data of Sample 5500024052603032009483.A09 ...\n",
      "16-01-05 13:20:26.102 I [root] Writing data of Sample 5500024035100021608461.H01 ...\n",
      "16-01-05 13:20:27.223 I [root] Writing data of Sample 5500024032848101507998.D02 ...\n",
      "16-01-05 13:20:28.346 I [root] Writing data of Sample 5500024030401071707289.D04 ...\n",
      "16-01-05 13:20:29.469 I [root] Writing data of Sample 5500024030401071707289.C10 ...\n",
      "16-01-05 13:20:30.589 I [root] Writing data of Sample 5500024052861011409506.D05 ...\n",
      "16-01-05 13:20:31.713 I [root] Writing data of Sample 5500024032848101507998.E02 ...\n",
      "16-01-05 13:20:32.843 I [root] Writing data of Sample 5500024052861011409506.E01 ...\n",
      "16-01-05 13:20:33.982 I [root] Writing data of Sample 5500024034290101707049.D01 ...\n",
      "16-01-05 13:20:35.125 I [root] Writing data of Sample 5500024032848101507998.F02 ...\n",
      "16-01-05 13:20:36.256 I [root] Writing data of Sample 5500024032848101507998.E03 ...\n",
      "16-01-05 13:20:37.382 I [root] Writing data of Sample 5500024032848101507998.H02 ...\n",
      "16-01-05 13:20:38.511 I [root] Writing data of Sample 5500024032848101507998.C03 ...\n",
      "16-01-05 13:20:39.641 I [root] Writing data of Sample 5500024052861011409506.E06 ...\n",
      "16-01-05 13:20:40.773 I [root] Writing data of Sample 5500024035100021608461.H08 ...\n",
      "16-01-05 13:20:41.916 I [root] Writing data of Sample 5500024052861011409506.H04 ...\n",
      "16-01-05 13:20:43.051 I [root] Writing data of Sample 5500024052861011409506.H06 ...\n",
      "16-01-05 13:20:44.177 I [root] Writing data of Sample 5500024032848101507998.G02 ...\n",
      "16-01-05 13:20:45.305 I [root] Writing data of Sample 5500024032848101507000.E02 ...\n",
      "16-01-05 13:20:46.444 I [root] Writing data of Sample 5500024034290101707049.E01 ...\n",
      "16-01-05 13:20:47.593 I [root] Writing data of Sample 5500024052603032009483.F03 ...\n",
      "16-01-05 13:20:48.730 I [root] Writing data of Sample 5500024032848101507000.A10 ...\n",
      "16-01-05 13:20:49.862 I [root] Writing data of Sample 5500024052861011409506.D01 ...\n",
      "16-01-05 13:20:50.991 I [root] Writing data of Sample 5500024032848101507998.A03 ...\n",
      "16-01-05 13:20:52.124 I [root] Writing data of Sample 5500024030401071707289.G12 ...\n",
      "16-01-05 13:20:53.266 I [root] Writing data of Sample 5500024052861011409506.C11 ...\n",
      "16-01-05 13:20:54.399 I [root] Writing data of Sample 5500024052861011409506.D06 ...\n",
      "16-01-05 13:20:55.533 I [root] Writing data of Sample 5500024052861011409506.A02 ...\n",
      "16-01-05 13:20:56.673 I [root] Writing data of Sample 5500024030401071707289.F02 ...\n",
      "16-01-05 13:20:57.801 I [root] Writing data of Sample 5500024034290101707049.F01 ...\n",
      "16-01-05 13:20:58.938 I [root] Writing data of Sample 5500024052861011409506.G10 ...\n",
      "16-01-05 13:21:00.072 I [root] Writing data of Sample 5500024032848101507998.D03 ...\n",
      "16-01-05 13:21:01.215 I [root] Writing data of Sample 5500024032848101507998.B03 ...\n",
      "16-01-05 13:21:02.346 I [root] Writing data of Sample 5500024034290101707049.G01 ...\n",
      "16-01-05 13:21:03.496 I [root] Writing data of Sample 5500024032848101507000.D02 ...\n",
      "16-01-05 13:21:04.629 I [root] Writing data of Sample 5500024052861011409506.C06 ...\n",
      "16-01-05 13:21:05.778 I [root] Writing data of Sample 5500024032848101507000.C02 ...\n",
      "16-01-05 13:21:06.919 I [root] Writing data of Sample 5500024032848101507000.B02 ...\n",
      "16-01-05 13:21:08.064 I [root] Writing data of Sample 5500024032848101507998.B04 ...\n",
      "16-01-05 13:21:09.210 I [root] Writing data of Sample 5500024032848101507998.F03 ...\n",
      "16-01-05 13:21:10.369 I [root] Writing data of Sample 5500024035100021608461.A02 ...\n",
      "16-01-05 13:21:11.525 I [root] Writing data of Sample 5500024035100021608461.B02 ...\n",
      "16-01-05 13:21:12.667 I [root] Writing data of Sample 5500024035100021608461.C02 ...\n",
      "16-01-05 13:21:13.807 I [root] Writing data of Sample 5500024032848101507998.G03 ...\n",
      "16-01-05 13:21:14.942 I [root] Writing data of Sample 5500024052861011409506.H08 ...\n",
      "16-01-05 13:21:16.076 I [root] Writing data of Sample 5500024034290101707049.H01 ...\n",
      "16-01-05 13:21:17.210 I [root] Writing data of Sample 5500024052603032009483.C05 ...\n",
      "16-01-05 13:21:18.350 I [root] Writing data of Sample 5500024052603032009483.E01 ...\n",
      "16-01-05 13:21:19.490 I [root] Writing data of Sample 5500024052861011409506.A06 ...\n",
      "16-01-05 13:21:20.621 I [root] Writing data of Sample 5500024032848101507998.C04 ...\n",
      "16-01-05 13:21:21.775 I [root] Writing data of Sample 5500024035100021608461.B12 ...\n",
      "16-01-05 13:21:22.917 I [root] Writing data of Sample 5500024052603032009483.E12 ...\n",
      "16-01-05 13:21:24.066 I [root] Writing data of Sample 5500024032848101507998.H03 ...\n",
      "16-01-05 13:21:25.223 I [root] Writing data of Sample 5500024035100021608461.D09 ...\n",
      "16-01-05 13:21:26.376 I [root] Writing data of Sample 5500024034290101707049.A02 ...\n",
      "16-01-05 13:21:27.522 I [root] Writing data of Sample 5500024032848101507998.D04 ...\n",
      "16-01-05 13:21:28.671 I [root] Writing data of Sample 5500024052861011409506.A09 ...\n",
      "16-01-05 13:21:29.804 I [root] Writing data of Sample 5500024032848101507998.D06 ...\n",
      "16-01-05 13:21:30.953 I [root] Writing data of Sample 5500024034290101707049.B02 ...\n",
      "16-01-05 13:21:32.108 I [root] Writing data of Sample 5500024030401071707289.F01 ...\n",
      "16-01-05 13:21:33.275 I [root] Writing data of Sample 5500024034290101707049.C02 ...\n",
      "16-01-05 13:21:34.445 I [root] Writing data of Sample 5500024034290101707049.D02 ...\n",
      "16-01-05 13:21:35.590 I [root] Writing data of Sample 5500024052603032009483.E04 ...\n",
      "16-01-05 13:21:36.727 I [root] Writing data of Sample 5500024032848101507000.E04 ...\n",
      "16-01-05 13:21:37.863 I [root] Writing data of Sample 5500024030401071707289.A01 ...\n",
      "16-01-05 13:21:38.997 I [root] Writing data of Sample 5500024032848101507998.F06 ...\n",
      "16-01-05 13:21:40.145 I [root] Writing data of Sample 5500024035100021608461.D02 ...\n",
      "16-01-05 13:21:41.279 I [root] Writing data of Sample 5500024032848101507998.E04 ...\n",
      "16-01-05 13:21:42.412 I [root] Writing data of Sample 5500024052861011409506.B09 ...\n",
      "16-01-05 13:21:43.544 I [root] Writing data of Sample 5500024032848101507000.G02 ...\n",
      "16-01-05 13:21:44.689 I [root] Writing data of Sample 5500024052861011409506.G12 ...\n",
      "16-01-05 13:21:45.829 I [root] Writing data of Sample 5500024032848101507000.F02 ...\n",
      "16-01-05 13:21:46.971 I [root] Writing data of Sample 5500024030401071707289.E01 ...\n",
      "16-01-05 13:21:48.106 I [root] Writing data of Sample 5500024032848101507998.H05 ...\n",
      "16-01-05 13:21:49.262 I [root] Writing data of Sample 5500024030401071707289.H12 ...\n",
      "16-01-05 13:21:50.417 I [root] Writing data of Sample 5500024052861011409506.H01 ...\n",
      "16-01-05 13:21:51.563 I [root] Writing data of Sample 5500024032848101507000.B10 ...\n",
      "16-01-05 13:21:52.711 I [root] Writing data of Sample 5500024032848101507998.B05 ...\n",
      "16-01-05 13:21:53.865 I [root] Writing data of Sample 5500024034290101707049.E02 ...\n",
      "16-01-05 13:21:55.011 I [root] Writing data of Sample 5500024034290101707049.F02 ...\n",
      "16-01-05 13:21:56.169 I [root] Writing data of Sample 5500024032848101507998.C06 ...\n",
      "16-01-05 13:21:57.316 I [root] Writing data of Sample 5500024034290101707049.G02 ...\n",
      "16-01-05 13:21:58.468 I [root] Writing data of Sample 5500024034290101707049.H02 ...\n",
      "16-01-05 13:21:59.612 I [root] Writing data of Sample 5500024034290101707049.A03 ...\n",
      "16-01-05 13:22:00.779 I [root] Writing data of Sample 5500024032848101507998.A07 ...\n",
      "16-01-05 13:22:01.920 I [root] Writing data of Sample 5500024052603032009483.C02 ...\n",
      "16-01-05 13:22:03.061 I [root] Writing data of Sample 5500024052861011409506.C09 ...\n",
      "16-01-05 13:22:04.194 I [root] Writing data of Sample 5500024032848101507998.B06 ...\n",
      "16-01-05 13:22:05.348 I [root] Writing data of Sample 5500024052861011409506.F08 ...\n",
      "16-01-05 13:22:06.493 I [root] Writing data of Sample 5500024032848101507000.H02 ...\n",
      "16-01-05 13:22:07.630 I [root] Writing data of Sample 5500024032848101507000.A03 ...\n",
      "16-01-05 13:22:08.781 I [root] Writing data of Sample 5500024032848101507000.B03 ...\n",
      "16-01-05 13:22:09.930 I [root] Writing data of Sample 5500024034290101707049.B03 ...\n",
      "16-01-05 13:22:11.088 I [root] Writing data of Sample 5500024032848101507998.D05 ...\n",
      "16-01-05 13:22:12.243 I [root] Writing data of Sample 5500024034290101707049.C03 ...\n",
      "16-01-05 13:22:13.394 I [root] Writing data of Sample 5500024034290101707049.D03 ...\n",
      "16-01-05 13:22:14.531 I [root] Writing data of Sample 5500024034290101707049.E03 ...\n",
      "16-01-05 13:22:15.671 I [root] Writing data of Sample 5500024035100021608461.E02 ...\n"
     ]
    }
   ],
   "source": [
    "# Create all samples and fetch their probe values\n",
    "for rowid, row in sample_info_df.iterrows():\n",
    "    name = row['name']\n",
    "    logger.info('Writing data of Sample %s ...' % name)\n",
    "    # Create sample\n",
    "    sample = Sample(\n",
    "        name=name,\n",
    "        filename=row.filename,\n",
    "        cell_line=known_cell_lines[row.cell_line],\n",
    "        dataset=dset,\n",
    "        platform=platform\n",
    "    )\n",
    "    # Setup probe values\n",
    "    if sample.filename not in sample_raw_data_df.columns:\n",
    "        logger.warning('Sample %s does not have raw data, skipped')\n",
    "        continue\n",
    "    sample.save()   \n",
    "    sample_data = sample_raw_data_df.loc[:, sample.filename]\n",
    "    probe_vals = []\n",
    "    for ix, val in sample_data.iteritems():\n",
    "        pv = ProbeValue(\n",
    "            sample=sample,\n",
    "            probe_id=ix,\n",
    "            value=val\n",
    "        )\n",
    "        probe_vals.append(pv)\n",
    "    ProbeValue.objects.bulk_create(probe_vals)"
   ]
  },
  {
   "cell_type": "code",
   "execution_count": null,
   "metadata": {
    "collapsed": true
   },
   "outputs": [],
   "source": []
  }
 ],
 "metadata": {
  "kernelspec": {
   "display_name": "Python 3",
   "language": "python",
   "name": "python3"
  },
  "language_info": {
   "codemirror_mode": {
    "name": "ipython",
    "version": 3
   },
   "file_extension": ".py",
   "mimetype": "text/x-python",
   "name": "python",
   "nbconvert_exporter": "python",
   "pygments_lexer": "ipython3",
   "version": "3.5.1"
  }
 },
 "nbformat": 4,
 "nbformat_minor": 0
}
