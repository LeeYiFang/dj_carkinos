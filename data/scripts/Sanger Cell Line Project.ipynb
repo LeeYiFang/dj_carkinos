{
 "cells": [
  {
   "cell_type": "markdown",
   "metadata": {},
   "source": [
    "# Sanger cell line Affymetrix gene expression project\n",
    "\n",
    "### Source\n",
    "\n",
    "- From GEO: http://www.ncbi.nlm.nih.gov/geo/query/acc.cgi?acc=GSE68950"
   ]
  },
  {
   "cell_type": "code",
   "execution_count": 1,
   "metadata": {
    "collapsed": true
   },
   "outputs": [],
   "source": [
    "from pathlib import Path\n",
    "import pandas as pd"
   ]
  },
  {
   "cell_type": "code",
   "execution_count": 2,
   "metadata": {
    "collapsed": false
   },
   "outputs": [],
   "source": [
    "# Setup logging \n",
    "import logging\n",
    "logger = logging.getLogger()\n",
    "logger.handlers[0].setFormatter(\n",
    "    logging.Formatter(\n",
    "        fmt=(\n",
    "            \"%(asctime)s.%(msecs)03d %(levelname).1s \"\n",
    "            \"[%(name)s] %(message)s\"\n",
    "        ),\n",
    "        datefmt=\"%y-%m-%d %H:%M:%S\",\n",
    "    )\n",
    ")\n",
    "logger.setLevel(logging.INFO)"
   ]
  },
  {
   "cell_type": "code",
   "execution_count": 3,
   "metadata": {
    "collapsed": false
   },
   "outputs": [
    {
     "name": "stderr",
     "output_type": "stream",
     "text": [
      "16-01-15 01:06:11.975 I [root] Logger works!\n"
     ]
    }
   ],
   "source": [
    "logger.info('Logger works!')"
   ]
  },
  {
   "cell_type": "code",
   "execution_count": 4,
   "metadata": {
    "collapsed": false
   },
   "outputs": [
    {
     "name": "stderr",
     "output_type": "stream",
     "text": [
      "16-01-15 01:06:11.980 I [root] Required paths exist: True\n"
     ]
    }
   ],
   "source": [
    "data_root = Path('../').resolve()\n",
    "raw_data_root = data_root.joinpath(\n",
    "    'raw', \n",
    "    'Sanger_Cell_Line_Project_Affymetrix_QCed_Data_n798/'\n",
    ")\n",
    "logger.info(\n",
    "    'Required paths exist: %s' % \n",
    "    all(map((lambda p: p.exists()), [data_root, raw_data_root]))\n",
    ")"
   ]
  },
  {
   "cell_type": "code",
   "execution_count": 5,
   "metadata": {
    "collapsed": false
   },
   "outputs": [
    {
     "name": "stdout",
     "output_type": "stream",
     "text": [
      "Sample info: /Users/liang/code/dj_carkinos/data/raw/Sanger_Cell_Line_Project_Affymetrix_QCed_Data_n798/Sanger_affy_n798_sample_info_published.xls\n",
      "Sample raw data: /Users/liang/code/dj_carkinos/data/raw/Sanger_Cell_Line_Project_Affymetrix_QCed_Data_n798/Sanger_Cell_Line_Project_Affymetrix_QCed_Data_n798.gct.tsv.gz\n",
      "Platform info: /Users/liang/code/dj_carkinos/data/Affy_U133A_probe_info.csv\n"
     ]
    }
   ],
   "source": [
    "sample_info_p = next(raw_data_root.glob('*.xls'))\n",
    "sample_raw_data_p = next(raw_data_root.glob('*.tsv.gz'))\n",
    "plat_info = next(data_root.glob('*.csv'))\n",
    "\n",
    "print('Sample info:', sample_info_p)\n",
    "print('Sample raw data:', sample_raw_data_p)\n",
    "print('Platform info:', plat_info)"
   ]
  },
  {
   "cell_type": "markdown",
   "metadata": {},
   "source": [
    "## Read in Platform Annotation\n",
    "\n",
    "The platform annotation is created by `Get_Affy_probes.R`"
   ]
  },
  {
   "cell_type": "code",
   "execution_count": 6,
   "metadata": {
    "collapsed": true
   },
   "outputs": [],
   "source": [
    "plat_info_df = pd.read_csv(plat_info.as_posix())"
   ]
  },
  {
   "cell_type": "code",
   "execution_count": 7,
   "metadata": {
    "collapsed": false
   },
   "outputs": [
    {
     "data": {
      "text/html": [
       "<div>\n",
       "<table border=\"1\" class=\"dataframe\">\n",
       "  <thead>\n",
       "    <tr style=\"text-align: right;\">\n",
       "      <th></th>\n",
       "      <th>PROBEID</th>\n",
       "      <th>SYMBOL</th>\n",
       "      <th>ENTREZID</th>\n",
       "      <th>GENENAME</th>\n",
       "    </tr>\n",
       "  </thead>\n",
       "  <tbody>\n",
       "    <tr>\n",
       "      <th>0</th>\n",
       "      <td>1007_s_at</td>\n",
       "      <td>DDR1</td>\n",
       "      <td>780</td>\n",
       "      <td>discoidin domain receptor tyrosine kinase 1</td>\n",
       "    </tr>\n",
       "    <tr>\n",
       "      <th>1</th>\n",
       "      <td>1007_s_at</td>\n",
       "      <td>MIR4640</td>\n",
       "      <td>100616237</td>\n",
       "      <td>microRNA 4640</td>\n",
       "    </tr>\n",
       "    <tr>\n",
       "      <th>2</th>\n",
       "      <td>1053_at</td>\n",
       "      <td>RFC2</td>\n",
       "      <td>5982</td>\n",
       "      <td>replication factor C (activator 1) 2, 40kDa</td>\n",
       "    </tr>\n",
       "    <tr>\n",
       "      <th>3</th>\n",
       "      <td>117_at</td>\n",
       "      <td>HSPA6</td>\n",
       "      <td>3310</td>\n",
       "      <td>heat shock 70kDa protein 6 (HSP70B')</td>\n",
       "    </tr>\n",
       "    <tr>\n",
       "      <th>4</th>\n",
       "      <td>121_at</td>\n",
       "      <td>PAX8</td>\n",
       "      <td>7849</td>\n",
       "      <td>paired box 8</td>\n",
       "    </tr>\n",
       "  </tbody>\n",
       "</table>\n",
       "</div>"
      ],
      "text/plain": [
       "     PROBEID   SYMBOL   ENTREZID                                     GENENAME\n",
       "0  1007_s_at     DDR1        780  discoidin domain receptor tyrosine kinase 1\n",
       "1  1007_s_at  MIR4640  100616237                                microRNA 4640\n",
       "2    1053_at     RFC2       5982  replication factor C (activator 1) 2, 40kDa\n",
       "3     117_at    HSPA6       3310         heat shock 70kDa protein 6 (HSP70B')\n",
       "4     121_at     PAX8       7849                                 paired box 8"
      ]
     },
     "execution_count": 7,
     "metadata": {},
     "output_type": "execute_result"
    }
   ],
   "source": [
    "plat_info_df.head()"
   ]
  },
  {
   "cell_type": "markdown",
   "metadata": {},
   "source": [
    "## Read in Sample Info"
   ]
  },
  {
   "cell_type": "code",
   "execution_count": 8,
   "metadata": {
    "collapsed": true
   },
   "outputs": [],
   "source": [
    "sample_info_df = pd.read_excel(sample_info_p.as_posix())"
   ]
  },
  {
   "cell_type": "code",
   "execution_count": 9,
   "metadata": {
    "collapsed": false
   },
   "outputs": [],
   "source": [
    "sample_info_df = sample_info_df.loc[\n",
    "    :, ['Scan', 'SampleName', 'PrimarySite', 'PrimaryHist']\n",
    "]\n",
    "sample_info_df.columns = [\n",
    "    'name', 'cell_line', 'primary_site', 'primary_histology'\n",
    "]"
   ]
  },
  {
   "cell_type": "code",
   "execution_count": 10,
   "metadata": {
    "collapsed": true
   },
   "outputs": [],
   "source": [
    "# sample_info_df['filename'] = sample_info_df.name + '.CEL'"
   ]
  },
  {
   "cell_type": "code",
   "execution_count": 11,
   "metadata": {
    "collapsed": true
   },
   "outputs": [],
   "source": [
    "# Using 800 samples take up 1.1GB SQLite database, which is too large\n",
    "# sample_info_df = sample_info_df.head(n=100)"
   ]
  },
  {
   "cell_type": "code",
   "execution_count": 12,
   "metadata": {
    "collapsed": false
   },
   "outputs": [
    {
     "data": {
      "text/html": [
       "<div>\n",
       "<table border=\"1\" class=\"dataframe\">\n",
       "  <thead>\n",
       "    <tr style=\"text-align: right;\">\n",
       "      <th></th>\n",
       "      <th>name</th>\n",
       "      <th>cell_line</th>\n",
       "      <th>primary_site</th>\n",
       "      <th>primary_histology</th>\n",
       "    </tr>\n",
       "  </thead>\n",
       "  <tbody>\n",
       "    <tr>\n",
       "      <th>0</th>\n",
       "      <td>5500024035100021608461.G01</td>\n",
       "      <td>380</td>\n",
       "      <td>haematopoietic and lymphoid tissue</td>\n",
       "      <td>lymphoid neoplasm</td>\n",
       "    </tr>\n",
       "    <tr>\n",
       "      <th>1</th>\n",
       "      <td>5500024034290101707049.A01</td>\n",
       "      <td>697</td>\n",
       "      <td>haematopoietic and lymphoid tissue</td>\n",
       "      <td>haematopoietic neoplasm</td>\n",
       "    </tr>\n",
       "    <tr>\n",
       "      <th>2</th>\n",
       "      <td>5500024052603032009483.A09</td>\n",
       "      <td>5637</td>\n",
       "      <td>urinary tract</td>\n",
       "      <td>carcinoma</td>\n",
       "    </tr>\n",
       "    <tr>\n",
       "      <th>3</th>\n",
       "      <td>5500024035100021608461.H01</td>\n",
       "      <td>22RV1</td>\n",
       "      <td>prostate</td>\n",
       "      <td>carcinoma</td>\n",
       "    </tr>\n",
       "    <tr>\n",
       "      <th>4</th>\n",
       "      <td>5500024032848101507998.D02</td>\n",
       "      <td>23132-87</td>\n",
       "      <td>stomach</td>\n",
       "      <td>carcinoma</td>\n",
       "    </tr>\n",
       "  </tbody>\n",
       "</table>\n",
       "</div>"
      ],
      "text/plain": [
       "                         name cell_line                        primary_site  \\\n",
       "0  5500024035100021608461.G01       380  haematopoietic and lymphoid tissue   \n",
       "1  5500024034290101707049.A01       697  haematopoietic and lymphoid tissue   \n",
       "2  5500024052603032009483.A09      5637                       urinary tract   \n",
       "3  5500024035100021608461.H01     22RV1                            prostate   \n",
       "4  5500024032848101507998.D02  23132-87                             stomach   \n",
       "\n",
       "         primary_histology  \n",
       "0        lymphoid neoplasm  \n",
       "1  haematopoietic neoplasm  \n",
       "2                carcinoma  \n",
       "3                carcinoma  \n",
       "4                carcinoma  "
      ]
     },
     "execution_count": 12,
     "metadata": {},
     "output_type": "execute_result"
    }
   ],
   "source": [
    "sample_info_df.head()"
   ]
  },
  {
   "cell_type": "code",
   "execution_count": 13,
   "metadata": {
    "collapsed": false
   },
   "outputs": [],
   "source": [
    "# To make sure a cell_line name only has one primary_site and primary_histology \n",
    "for grp, df in sample_info_df.iloc[:, 1:-1].groupby('cell_line'):\n",
    "    assert len(pd.unique(df.to_records(index=False))) == 1"
   ]
  },
  {
   "cell_type": "markdown",
   "metadata": {},
   "source": [
    "## Read Sample Raw Data"
   ]
  },
  {
   "cell_type": "code",
   "execution_count": 14,
   "metadata": {
    "collapsed": true
   },
   "outputs": [],
   "source": [
    "sample_raw_data_df = pd.read_table(sample_raw_data_p.as_posix(), skiprows=2)"
   ]
  },
  {
   "cell_type": "code",
   "execution_count": 15,
   "metadata": {
    "collapsed": true
   },
   "outputs": [],
   "source": [
    "sample_raw_data_df.index = sample_raw_data_df['NAME']\n",
    "sample_raw_data_df.index.name = None"
   ]
  },
  {
   "cell_type": "code",
   "execution_count": 16,
   "metadata": {
    "collapsed": false
   },
   "outputs": [],
   "source": [
    "sample_raw_data_df = sample_raw_data_df.iloc[:, 2:]"
   ]
  },
  {
   "cell_type": "code",
   "execution_count": 17,
   "metadata": {
    "collapsed": true
   },
   "outputs": [],
   "source": [
    "sample_raw_data_df.columns = [col[:-len('.CEL')] for col in sample_raw_data_df.columns]"
   ]
  },
  {
   "cell_type": "code",
   "execution_count": 18,
   "metadata": {
    "collapsed": false
   },
   "outputs": [],
   "source": [
    "# Select only samples in sapmle_info_df\n",
    "sample_raw_data_df = sample_raw_data_df.loc[:, sample_info_df['name']]"
   ]
  },
  {
   "cell_type": "code",
   "execution_count": 19,
   "metadata": {
    "collapsed": false
   },
   "outputs": [],
   "source": [
    "sample_raw_data_df = sample_raw_data_df.reindex(pd.unique(plat_info_df.PROBEID))"
   ]
  },
  {
   "cell_type": "code",
   "execution_count": 20,
   "metadata": {
    "collapsed": false
   },
   "outputs": [
    {
     "data": {
      "text/html": [
       "<div>\n",
       "<table border=\"1\" class=\"dataframe\">\n",
       "  <thead>\n",
       "    <tr style=\"text-align: right;\">\n",
       "      <th></th>\n",
       "      <th>5500024035100021608461.G01</th>\n",
       "      <th>5500024034290101707049.A01</th>\n",
       "      <th>5500024052603032009483.A09</th>\n",
       "      <th>5500024035100021608461.H01</th>\n",
       "      <th>5500024032848101507998.D02</th>\n",
       "      <th>5500024030401071707289.D04</th>\n",
       "      <th>5500024030401071707289.C10</th>\n",
       "      <th>5500024052861011409506.D05</th>\n",
       "      <th>5500024032848101507998.E02</th>\n",
       "      <th>5500024052861011409506.E01</th>\n",
       "      <th>...</th>\n",
       "      <th>5500024032848101507998.G01</th>\n",
       "      <th>5500024031722092907496.C11</th>\n",
       "      <th>5500024052861011409506.E11</th>\n",
       "      <th>5500024035100021608461.E01</th>\n",
       "      <th>5500024032848101507998.H01</th>\n",
       "      <th>5500024052861011409506.E09</th>\n",
       "      <th>5500024031722092907496.B11</th>\n",
       "      <th>5500024052861011409506.D09</th>\n",
       "      <th>5500024032848101507000.H03</th>\n",
       "      <th>5500024035100021608461.F01</th>\n",
       "    </tr>\n",
       "  </thead>\n",
       "  <tbody>\n",
       "    <tr>\n",
       "      <th>1007_s_at</th>\n",
       "      <td>520</td>\n",
       "      <td>109</td>\n",
       "      <td>777</td>\n",
       "      <td>696</td>\n",
       "      <td>2130</td>\n",
       "      <td>249</td>\n",
       "      <td>1725</td>\n",
       "      <td>1919</td>\n",
       "      <td>127</td>\n",
       "      <td>129</td>\n",
       "      <td>...</td>\n",
       "      <td>453</td>\n",
       "      <td>572</td>\n",
       "      <td>577</td>\n",
       "      <td>890</td>\n",
       "      <td>93</td>\n",
       "      <td>102</td>\n",
       "      <td>1547</td>\n",
       "      <td>584</td>\n",
       "      <td>367</td>\n",
       "      <td>1707</td>\n",
       "    </tr>\n",
       "    <tr>\n",
       "      <th>1053_at</th>\n",
       "      <td>269</td>\n",
       "      <td>159</td>\n",
       "      <td>340</td>\n",
       "      <td>151</td>\n",
       "      <td>129</td>\n",
       "      <td>85</td>\n",
       "      <td>183</td>\n",
       "      <td>235</td>\n",
       "      <td>107</td>\n",
       "      <td>311</td>\n",
       "      <td>...</td>\n",
       "      <td>208</td>\n",
       "      <td>311</td>\n",
       "      <td>334</td>\n",
       "      <td>217</td>\n",
       "      <td>198</td>\n",
       "      <td>219</td>\n",
       "      <td>175</td>\n",
       "      <td>167</td>\n",
       "      <td>181</td>\n",
       "      <td>168</td>\n",
       "    </tr>\n",
       "    <tr>\n",
       "      <th>117_at</th>\n",
       "      <td>20</td>\n",
       "      <td>49</td>\n",
       "      <td>20</td>\n",
       "      <td>23</td>\n",
       "      <td>24</td>\n",
       "      <td>18</td>\n",
       "      <td>18</td>\n",
       "      <td>24</td>\n",
       "      <td>24</td>\n",
       "      <td>35</td>\n",
       "      <td>...</td>\n",
       "      <td>24</td>\n",
       "      <td>3159</td>\n",
       "      <td>2543</td>\n",
       "      <td>32</td>\n",
       "      <td>42</td>\n",
       "      <td>44</td>\n",
       "      <td>21</td>\n",
       "      <td>33</td>\n",
       "      <td>22</td>\n",
       "      <td>20</td>\n",
       "    </tr>\n",
       "    <tr>\n",
       "      <th>121_at</th>\n",
       "      <td>71</td>\n",
       "      <td>76</td>\n",
       "      <td>110</td>\n",
       "      <td>95</td>\n",
       "      <td>466</td>\n",
       "      <td>66</td>\n",
       "      <td>53</td>\n",
       "      <td>66</td>\n",
       "      <td>2011</td>\n",
       "      <td>927</td>\n",
       "      <td>...</td>\n",
       "      <td>1807</td>\n",
       "      <td>60</td>\n",
       "      <td>64</td>\n",
       "      <td>71</td>\n",
       "      <td>54</td>\n",
       "      <td>69</td>\n",
       "      <td>51</td>\n",
       "      <td>103</td>\n",
       "      <td>63</td>\n",
       "      <td>76</td>\n",
       "    </tr>\n",
       "    <tr>\n",
       "      <th>1255_g_at</th>\n",
       "      <td>15</td>\n",
       "      <td>15</td>\n",
       "      <td>16</td>\n",
       "      <td>17</td>\n",
       "      <td>16</td>\n",
       "      <td>16</td>\n",
       "      <td>15</td>\n",
       "      <td>17</td>\n",
       "      <td>15</td>\n",
       "      <td>16</td>\n",
       "      <td>...</td>\n",
       "      <td>16</td>\n",
       "      <td>294</td>\n",
       "      <td>138</td>\n",
       "      <td>16</td>\n",
       "      <td>17</td>\n",
       "      <td>16</td>\n",
       "      <td>16</td>\n",
       "      <td>17</td>\n",
       "      <td>14</td>\n",
       "      <td>17</td>\n",
       "    </tr>\n",
       "  </tbody>\n",
       "</table>\n",
       "<p>5 rows × 798 columns</p>\n",
       "</div>"
      ],
      "text/plain": [
       "           5500024035100021608461.G01  5500024034290101707049.A01  \\\n",
       "1007_s_at                         520                         109   \n",
       "1053_at                           269                         159   \n",
       "117_at                             20                          49   \n",
       "121_at                             71                          76   \n",
       "1255_g_at                          15                          15   \n",
       "\n",
       "           5500024052603032009483.A09  5500024035100021608461.H01  \\\n",
       "1007_s_at                         777                         696   \n",
       "1053_at                           340                         151   \n",
       "117_at                             20                          23   \n",
       "121_at                            110                          95   \n",
       "1255_g_at                          16                          17   \n",
       "\n",
       "           5500024032848101507998.D02  5500024030401071707289.D04  \\\n",
       "1007_s_at                        2130                         249   \n",
       "1053_at                           129                          85   \n",
       "117_at                             24                          18   \n",
       "121_at                            466                          66   \n",
       "1255_g_at                          16                          16   \n",
       "\n",
       "           5500024030401071707289.C10  5500024052861011409506.D05  \\\n",
       "1007_s_at                        1725                        1919   \n",
       "1053_at                           183                         235   \n",
       "117_at                             18                          24   \n",
       "121_at                             53                          66   \n",
       "1255_g_at                          15                          17   \n",
       "\n",
       "           5500024032848101507998.E02  5500024052861011409506.E01  \\\n",
       "1007_s_at                         127                         129   \n",
       "1053_at                           107                         311   \n",
       "117_at                             24                          35   \n",
       "121_at                           2011                         927   \n",
       "1255_g_at                          15                          16   \n",
       "\n",
       "                      ...              5500024032848101507998.G01  \\\n",
       "1007_s_at             ...                                     453   \n",
       "1053_at               ...                                     208   \n",
       "117_at                ...                                      24   \n",
       "121_at                ...                                    1807   \n",
       "1255_g_at             ...                                      16   \n",
       "\n",
       "           5500024031722092907496.C11  5500024052861011409506.E11  \\\n",
       "1007_s_at                         572                         577   \n",
       "1053_at                           311                         334   \n",
       "117_at                           3159                        2543   \n",
       "121_at                             60                          64   \n",
       "1255_g_at                         294                         138   \n",
       "\n",
       "           5500024035100021608461.E01  5500024032848101507998.H01  \\\n",
       "1007_s_at                         890                          93   \n",
       "1053_at                           217                         198   \n",
       "117_at                             32                          42   \n",
       "121_at                             71                          54   \n",
       "1255_g_at                          16                          17   \n",
       "\n",
       "           5500024052861011409506.E09  5500024031722092907496.B11  \\\n",
       "1007_s_at                         102                        1547   \n",
       "1053_at                           219                         175   \n",
       "117_at                             44                          21   \n",
       "121_at                             69                          51   \n",
       "1255_g_at                          16                          16   \n",
       "\n",
       "           5500024052861011409506.D09  5500024032848101507000.H03  \\\n",
       "1007_s_at                         584                         367   \n",
       "1053_at                           167                         181   \n",
       "117_at                             33                          22   \n",
       "121_at                            103                          63   \n",
       "1255_g_at                          17                          14   \n",
       "\n",
       "           5500024035100021608461.F01  \n",
       "1007_s_at                        1707  \n",
       "1053_at                           168  \n",
       "117_at                             20  \n",
       "121_at                             76  \n",
       "1255_g_at                          17  \n",
       "\n",
       "[5 rows x 798 columns]"
      ]
     },
     "execution_count": 20,
     "metadata": {},
     "output_type": "execute_result"
    }
   ],
   "source": [
    "sample_raw_data_df.head()"
   ]
  },
  {
   "cell_type": "markdown",
   "metadata": {},
   "source": [
    "## Setup Django\n",
    "\n",
    "Since Django needs to load the modules by relative import, change the working directory to `/src`."
   ]
  },
  {
   "cell_type": "code",
   "execution_count": 21,
   "metadata": {
    "collapsed": false
   },
   "outputs": [
    {
     "name": "stdout",
     "output_type": "stream",
     "text": [
      "/Users/liang/code/dj_carkinos/src\n"
     ]
    }
   ],
   "source": [
    "cd \"../../src/\""
   ]
  },
  {
   "cell_type": "code",
   "execution_count": 22,
   "metadata": {
    "collapsed": true
   },
   "outputs": [],
   "source": [
    "import django\n",
    "import os"
   ]
  },
  {
   "cell_type": "code",
   "execution_count": 23,
   "metadata": {
    "collapsed": true
   },
   "outputs": [],
   "source": [
    "os.environ['DJANGO_SETTINGS_MODULE'] = 'carkinos.settings.local'"
   ]
  },
  {
   "cell_type": "code",
   "execution_count": 24,
   "metadata": {
    "collapsed": false
   },
   "outputs": [],
   "source": [
    "django.setup()"
   ]
  },
  {
   "cell_type": "code",
   "execution_count": 25,
   "metadata": {
    "collapsed": false
   },
   "outputs": [],
   "source": [
    "from datasets.models import (\n",
    "    CellLine, DataSet, MicroarrayPlatform, \n",
    "    Sample, ProbeInfo, Gene\n",
    ")"
   ]
  },
  {
   "cell_type": "code",
   "execution_count": 26,
   "metadata": {
    "collapsed": false
   },
   "outputs": [],
   "source": [
    "logging.getLogger('django.db.backends').setLevel(logging.INFO)"
   ]
  },
  {
   "cell_type": "markdown",
   "metadata": {},
   "source": [
    "### Setup Microarray Plaform"
   ]
  },
  {
   "cell_type": "code",
   "execution_count": 27,
   "metadata": {
    "collapsed": false
   },
   "outputs": [],
   "source": [
    "platform = MicroarrayPlatform(\n",
    "    name='GPL3921',\n",
    "    manufacturer='Affymetrix',\n",
    "    description='Affymetrix HT Human Genome U133A Array',\n",
    ")"
   ]
  },
  {
   "cell_type": "code",
   "execution_count": 28,
   "metadata": {
    "collapsed": false
   },
   "outputs": [],
   "source": [
    "platform.save()"
   ]
  },
  {
   "cell_type": "code",
   "execution_count": 29,
   "metadata": {
    "collapsed": false
   },
   "outputs": [
    {
     "data": {
      "text/plain": [
       "<MicroarrayPlatform: GPL3921>"
      ]
     },
     "execution_count": 29,
     "metadata": {},
     "output_type": "execute_result"
    }
   ],
   "source": [
    "platform"
   ]
  },
  {
   "cell_type": "markdown",
   "metadata": {},
   "source": [
    "### Platform Probe Info"
   ]
  },
  {
   "cell_type": "code",
   "execution_count": 30,
   "metadata": {
    "collapsed": false
   },
   "outputs": [],
   "source": [
    "plat_info_df.SYMBOL.fillna('', inplace=True)\n",
    "plat_info_df.GENENAME.fillna('', inplace=True)"
   ]
  },
  {
   "cell_type": "code",
   "execution_count": 31,
   "metadata": {
    "collapsed": true
   },
   "outputs": [],
   "source": [
    "plat_info_df.ENTREZID.fillna(0, inplace=True)"
   ]
  },
  {
   "cell_type": "code",
   "execution_count": 32,
   "metadata": {
    "collapsed": false
   },
   "outputs": [
    {
     "data": {
      "text/html": [
       "<div>\n",
       "<table border=\"1\" class=\"dataframe\">\n",
       "  <thead>\n",
       "    <tr style=\"text-align: right;\">\n",
       "      <th></th>\n",
       "      <th>PROBEID</th>\n",
       "      <th>SYMBOL</th>\n",
       "      <th>ENTREZID</th>\n",
       "      <th>GENENAME</th>\n",
       "    </tr>\n",
       "  </thead>\n",
       "  <tbody>\n",
       "    <tr>\n",
       "      <th>24544</th>\n",
       "      <td>AFFX-r2-Hs28SrRNA-3_at</td>\n",
       "      <td></td>\n",
       "      <td>0</td>\n",
       "      <td></td>\n",
       "    </tr>\n",
       "    <tr>\n",
       "      <th>24545</th>\n",
       "      <td>AFFX-r2-Hs28SrRNA-5_at</td>\n",
       "      <td></td>\n",
       "      <td>0</td>\n",
       "      <td></td>\n",
       "    </tr>\n",
       "    <tr>\n",
       "      <th>24546</th>\n",
       "      <td>AFFX-r2-Hs28SrRNA-M_at</td>\n",
       "      <td></td>\n",
       "      <td>0</td>\n",
       "      <td></td>\n",
       "    </tr>\n",
       "    <tr>\n",
       "      <th>24547</th>\n",
       "      <td>AFFX-r2-P1-cre-3_at</td>\n",
       "      <td></td>\n",
       "      <td>0</td>\n",
       "      <td></td>\n",
       "    </tr>\n",
       "    <tr>\n",
       "      <th>24548</th>\n",
       "      <td>AFFX-r2-P1-cre-5_at</td>\n",
       "      <td></td>\n",
       "      <td>0</td>\n",
       "      <td></td>\n",
       "    </tr>\n",
       "  </tbody>\n",
       "</table>\n",
       "</div>"
      ],
      "text/plain": [
       "                      PROBEID SYMBOL  ENTREZID GENENAME\n",
       "24544  AFFX-r2-Hs28SrRNA-3_at                0         \n",
       "24545  AFFX-r2-Hs28SrRNA-5_at                0         \n",
       "24546  AFFX-r2-Hs28SrRNA-M_at                0         \n",
       "24547     AFFX-r2-P1-cre-3_at                0         \n",
       "24548     AFFX-r2-P1-cre-5_at                0         "
      ]
     },
     "execution_count": 32,
     "metadata": {},
     "output_type": "execute_result"
    }
   ],
   "source": [
    "plat_info_df.tail()"
   ]
  },
  {
   "cell_type": "code",
   "execution_count": 33,
   "metadata": {
    "collapsed": false
   },
   "outputs": [
    {
     "data": {
      "text/plain": [
       "PROBEID     201265_at\n",
       "SYMBOL               \n",
       "ENTREZID            0\n",
       "GENENAME             \n",
       "Name: 927, dtype: object"
      ]
     },
     "execution_count": 33,
     "metadata": {},
     "output_type": "execute_result"
    }
   ],
   "source": [
    "plat_info_df.iloc[927]"
   ]
  },
  {
   "cell_type": "code",
   "execution_count": 34,
   "metadata": {
    "collapsed": false
   },
   "outputs": [
    {
     "name": "stderr",
     "output_type": "stream",
     "text": [
      "16-01-14 17:06:16.550 I [root] Start populating probe info ...\n",
      "16-01-14 17:06:17.794 I [root] Finished\n"
     ]
    }
   ],
   "source": [
    "logger.info('Start populating probe info ...')\n",
    "probes = []\n",
    "for probe_order, probe_identifier in enumerate(sample_raw_data_df.index):\n",
    "    probe = ProbeInfo(\n",
    "        identifier=probe_identifier,\n",
    "        platform=platform,\n",
    "        platform_order=probe_order,\n",
    "    )\n",
    "    probes.append(probe)\n",
    "\n",
    "# Bulk create (all in one SQL)\n",
    "ProbeInfo.objects.bulk_create(probes)\n",
    "logger.info('Finished')"
   ]
  },
  {
   "cell_type": "code",
   "execution_count": 35,
   "metadata": {
    "collapsed": false
   },
   "outputs": [],
   "source": [
    "probes = platform.probes.order_by('platform_order')"
   ]
  },
  {
   "cell_type": "code",
   "execution_count": 36,
   "metadata": {
    "collapsed": false
   },
   "outputs": [
    {
     "name": "stderr",
     "output_type": "stream",
     "text": [
      "16-01-14 17:06:17.820 I [root] Add gene info to probes ...\n",
      "16-01-14 17:09:30.365 I [root] Finished\n"
     ]
    }
   ],
   "source": [
    "logger.info('Add gene info to probes ...')\n",
    "for probe in probes:\n",
    "    gene_info = plat_info_df[plat_info_df['PROBEID'] == probe.identifier]\n",
    "    for row_id, row in gene_info.iterrows():\n",
    "        # get Gene obj first \n",
    "        try:\n",
    "            gene = Gene.objects.get(\n",
    "                entrez_id=row.ENTREZID,\n",
    "            )\n",
    "            if gene.symbol != row.SYMBOL or gene.name != row.GENENAME:\n",
    "                logger.error(\n",
    "                    'Row %d except gene[Entrez ID: %d] '\n",
    "                    'with symbol %s but get %s in the row'\n",
    "                    % (row_id, gene.entrez_id, gene.symbol, row.SYMBOL)\n",
    "                )\n",
    "        except Gene.DoesNotExist:\n",
    "            gene = Gene.objects.create(\n",
    "                entrez_id=row.ENTREZID,\n",
    "                symbol=row.SYMBOL,\n",
    "                name=row.GENENAME,\n",
    "            )\n",
    "        finally:\n",
    "            probe.genes.add(gene)\n",
    "logger.info('Finished')"
   ]
  },
  {
   "cell_type": "code",
   "execution_count": 37,
   "metadata": {
    "collapsed": false
   },
   "outputs": [
    {
     "data": {
      "text/plain": [
       "13839"
      ]
     },
     "execution_count": 37,
     "metadata": {},
     "output_type": "execute_result"
    }
   ],
   "source": [
    "Gene.objects.count()"
   ]
  },
  {
   "cell_type": "markdown",
   "metadata": {},
   "source": [
    "### Setup Dataset"
   ]
  },
  {
   "cell_type": "code",
   "execution_count": 38,
   "metadata": {
    "collapsed": true
   },
   "outputs": [],
   "source": [
    "dset = DataSet(\n",
    "    name = 'Sanger Cell Line Project',\n",
    "    data_path = 'sanger_cell_line_proj.npy',\n",
    ")"
   ]
  },
  {
   "cell_type": "code",
   "execution_count": 39,
   "metadata": {
    "collapsed": false
   },
   "outputs": [],
   "source": [
    "dset.save()"
   ]
  },
  {
   "cell_type": "code",
   "execution_count": 40,
   "metadata": {
    "collapsed": false
   },
   "outputs": [
    {
     "data": {
      "text/plain": [
       "<DataSet: Sanger Cell Line Project>"
      ]
     },
     "execution_count": 40,
     "metadata": {},
     "output_type": "execute_result"
    }
   ],
   "source": [
    "dset"
   ]
  },
  {
   "cell_type": "markdown",
   "metadata": {},
   "source": [
    "### Setup Cell Lines, Samples and Their Values"
   ]
  },
  {
   "cell_type": "code",
   "execution_count": 41,
   "metadata": {
    "collapsed": false
   },
   "outputs": [
    {
     "data": {
      "text/html": [
       "<div>\n",
       "<table border=\"1\" class=\"dataframe\">\n",
       "  <thead>\n",
       "    <tr style=\"text-align: right;\">\n",
       "      <th></th>\n",
       "      <th>name</th>\n",
       "      <th>cell_line</th>\n",
       "      <th>primary_site</th>\n",
       "      <th>primary_histology</th>\n",
       "    </tr>\n",
       "  </thead>\n",
       "  <tbody>\n",
       "    <tr>\n",
       "      <th>0</th>\n",
       "      <td>5500024035100021608461.G01</td>\n",
       "      <td>380</td>\n",
       "      <td>haematopoietic and lymphoid tissue</td>\n",
       "      <td>lymphoid neoplasm</td>\n",
       "    </tr>\n",
       "    <tr>\n",
       "      <th>1</th>\n",
       "      <td>5500024034290101707049.A01</td>\n",
       "      <td>697</td>\n",
       "      <td>haematopoietic and lymphoid tissue</td>\n",
       "      <td>haematopoietic neoplasm</td>\n",
       "    </tr>\n",
       "    <tr>\n",
       "      <th>2</th>\n",
       "      <td>5500024052603032009483.A09</td>\n",
       "      <td>5637</td>\n",
       "      <td>urinary tract</td>\n",
       "      <td>carcinoma</td>\n",
       "    </tr>\n",
       "    <tr>\n",
       "      <th>3</th>\n",
       "      <td>5500024035100021608461.H01</td>\n",
       "      <td>22RV1</td>\n",
       "      <td>prostate</td>\n",
       "      <td>carcinoma</td>\n",
       "    </tr>\n",
       "    <tr>\n",
       "      <th>4</th>\n",
       "      <td>5500024032848101507998.D02</td>\n",
       "      <td>23132-87</td>\n",
       "      <td>stomach</td>\n",
       "      <td>carcinoma</td>\n",
       "    </tr>\n",
       "  </tbody>\n",
       "</table>\n",
       "</div>"
      ],
      "text/plain": [
       "                         name cell_line                        primary_site  \\\n",
       "0  5500024035100021608461.G01       380  haematopoietic and lymphoid tissue   \n",
       "1  5500024034290101707049.A01       697  haematopoietic and lymphoid tissue   \n",
       "2  5500024052603032009483.A09      5637                       urinary tract   \n",
       "3  5500024035100021608461.H01     22RV1                            prostate   \n",
       "4  5500024032848101507998.D02  23132-87                             stomach   \n",
       "\n",
       "         primary_histology  \n",
       "0        lymphoid neoplasm  \n",
       "1  haematopoietic neoplasm  \n",
       "2                carcinoma  \n",
       "3                carcinoma  \n",
       "4                carcinoma  "
      ]
     },
     "execution_count": 41,
     "metadata": {},
     "output_type": "execute_result"
    }
   ],
   "source": [
    "sample_info_df.head()"
   ]
  },
  {
   "cell_type": "code",
   "execution_count": 42,
   "metadata": {
    "collapsed": false
   },
   "outputs": [],
   "source": [
    "# Create all cell lines\n",
    "known_cell_lines = {}\n",
    "for rowid, row in sample_info_df.iterrows():\n",
    "    cl = row.cell_line\n",
    "    try:\n",
    "        cell_line = known_cell_lines[cl]\n",
    "    except KeyError:\n",
    "        cell_line = CellLine.objects.create(\n",
    "            name=str(row.cell_line), \n",
    "            primary_site=row.primary_site, \n",
    "            primary_histology=row.primary_histology\n",
    "        )\n",
    "        known_cell_lines[cl] = cell_line"
   ]
  },
  {
   "cell_type": "code",
   "execution_count": 43,
   "metadata": {
    "collapsed": false
   },
   "outputs": [],
   "source": [
    "# Create all samples\n",
    "for rowid, row in sample_info_df.iterrows():\n",
    "    name = row['name']\n",
    "    # Create sample\n",
    "    sample = Sample.objects.create(\n",
    "        name=name,\n",
    "        cell_line=known_cell_lines[row.cell_line],\n",
    "        dataset=dset,\n",
    "        dataset_order=rowid,\n",
    "        platform=platform,\n",
    "    )"
   ]
  },
  {
   "cell_type": "code",
   "execution_count": 44,
   "metadata": {
    "collapsed": false
   },
   "outputs": [],
   "source": [
    "import numpy as np"
   ]
  },
  {
   "cell_type": "code",
   "execution_count": 65,
   "metadata": {
    "collapsed": false
   },
   "outputs": [
    {
     "data": {
      "text/plain": [
       "True"
      ]
     },
     "execution_count": 65,
     "metadata": {},
     "output_type": "execute_result"
    }
   ],
   "source": [
    "raw_data_val = sample_raw_data_df.values\n",
    "\n",
    "# make sure they can by correctly converted to the new dtype\n",
    "np.allclose(raw_data_val, raw_data_val.astype(np.float32), equal_nan=True)"
   ]
  },
  {
   "cell_type": "code",
   "execution_count": 66,
   "metadata": {
    "collapsed": false
   },
   "outputs": [],
   "source": [
    "with (data_root / dset.data_path).open('wb') as f:\n",
    "    # sample_raw_data_df.values.tofile(f)\n",
    "    np.save(f, sample_raw_data_df.values.astype(np.float32))"
   ]
  }
 ],
 "metadata": {
  "kernelspec": {
   "display_name": "Python 3",
   "language": "python",
   "name": "python3"
  },
  "language_info": {
   "codemirror_mode": {
    "name": "ipython",
    "version": 3
   },
   "file_extension": ".py",
   "mimetype": "text/x-python",
   "name": "python",
   "nbconvert_exporter": "python",
   "pygments_lexer": "ipython3",
   "version": "3.5.1"
  }
 },
 "nbformat": 4,
 "nbformat_minor": 0
}
